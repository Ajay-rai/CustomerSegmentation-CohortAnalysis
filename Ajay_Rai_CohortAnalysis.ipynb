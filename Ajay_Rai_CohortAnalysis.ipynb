{
 "cells": [
  {
   "cell_type": "markdown",
   "id": "47dbd674",
   "metadata": {},
   "source": [
    "**Executive Summary**\n",
    "\n",
    "Businesses can gain valuable insights about their customers' behavior by converting their customer data into cohort analysis charts. The metrics used to do cohort analysis are: customer retention rate, net revenue retention, and customer lifetime revenue. The notebook includes data manipulation, cohort charts, a cohort layer cake chart, and insights."
   ]
  },
  {
   "cell_type": "markdown",
   "id": "05418c36",
   "metadata": {
    "toc": true
   },
   "source": [
    "<h1>Table of Contents<span class=\"tocSkip\"></span></h1>\n",
    "<div class=\"toc\"><ul class=\"toc-item\"><li><span><a href=\"#Objective\" data-toc-modified-id=\"Objective-1\"><span class=\"toc-item-num\">1&nbsp;&nbsp;</span>Objective</a></span><ul class=\"toc-item\"><li><span><a href=\"#Metrics\" data-toc-modified-id=\"Metrics-1.1\"><span class=\"toc-item-num\">1.1&nbsp;&nbsp;</span>Metrics</a></span></li><li><span><a href=\"#Assumptions\" data-toc-modified-id=\"Assumptions-1.2\"><span class=\"toc-item-num\">1.2&nbsp;&nbsp;</span>Assumptions</a></span></li></ul></li><li><span><a href=\"#Importing-libraries-and-data-frame\" data-toc-modified-id=\"Importing-libraries-and-data-frame-2\"><span class=\"toc-item-num\">2&nbsp;&nbsp;</span>Importing libraries and data frame</a></span><ul class=\"toc-item\"><li><span><a href=\"#Exploring-dataframe\" data-toc-modified-id=\"Exploring-dataframe-2.1\"><span class=\"toc-item-num\">2.1&nbsp;&nbsp;</span>Exploring dataframe</a></span></li></ul></li><li><span><a href=\"#EDA-and-handling-missing-data\" data-toc-modified-id=\"EDA-and-handling-missing-data-3\"><span class=\"toc-item-num\">3&nbsp;&nbsp;</span>EDA and handling missing data</a></span></li><li><span><a href=\"#Cohort-Analysis\" data-toc-modified-id=\"Cohort-Analysis-4\"><span class=\"toc-item-num\">4&nbsp;&nbsp;</span>Cohort Analysis</a></span><ul class=\"toc-item\"><li><span><a href=\"#Cohort-Analysis-for-'US'\" data-toc-modified-id=\"Cohort-Analysis-for-'US'-4.1\"><span class=\"toc-item-num\">4.1&nbsp;&nbsp;</span>Cohort Analysis for 'US'</a></span><ul class=\"toc-item\"><li><span><a href=\"#US-Customer-Retention-Rate\" data-toc-modified-id=\"US-Customer-Retention-Rate-4.1.1\"><span class=\"toc-item-num\">4.1.1&nbsp;&nbsp;</span>US Customer Retention Rate</a></span></li><li><span><a href=\"#US-Net--Revenue-Retention\" data-toc-modified-id=\"US-Net--Revenue-Retention-4.1.2\"><span class=\"toc-item-num\">4.1.2&nbsp;&nbsp;</span>US Net  Revenue Retention</a></span></li><li><span><a href=\"#US-Customer-Lifetime-Revenue\" data-toc-modified-id=\"US-Customer-Lifetime-Revenue-4.1.3\"><span class=\"toc-item-num\">4.1.3&nbsp;&nbsp;</span>US Customer Lifetime Revenue</a></span></li></ul></li><li><span><a href=\"#Cohort-Analysis-for-'AU'\" data-toc-modified-id=\"Cohort-Analysis-for-'AU'-4.2\"><span class=\"toc-item-num\">4.2&nbsp;&nbsp;</span>Cohort Analysis for 'AU'</a></span><ul class=\"toc-item\"><li><span><a href=\"#AU-Customer-Retention-Rate\" data-toc-modified-id=\"AU-Customer-Retention-Rate-4.2.1\"><span class=\"toc-item-num\">4.2.1&nbsp;&nbsp;</span>AU Customer Retention Rate</a></span></li><li><span><a href=\"#AU-Net-Revenue-Retention\" data-toc-modified-id=\"AU-Net-Revenue-Retention-4.2.2\"><span class=\"toc-item-num\">4.2.2&nbsp;&nbsp;</span>AU Net Revenue Retention</a></span></li><li><span><a href=\"#AU-Customer-Lifetime-Revenue\" data-toc-modified-id=\"AU-Customer-Lifetime-Revenue-4.2.3\"><span class=\"toc-item-num\">4.2.3&nbsp;&nbsp;</span>AU Customer Lifetime Revenue</a></span></li></ul></li><li><span><a href=\"#Cohort-Analysis-for-'CA'\" data-toc-modified-id=\"Cohort-Analysis-for-'CA'-4.3\"><span class=\"toc-item-num\">4.3&nbsp;&nbsp;</span>Cohort Analysis for 'CA'</a></span><ul class=\"toc-item\"><li><span><a href=\"#CA-Customer-Retention-Rate\" data-toc-modified-id=\"CA-Customer-Retention-Rate-4.3.1\"><span class=\"toc-item-num\">4.3.1&nbsp;&nbsp;</span>CA Customer Retention Rate</a></span></li><li><span><a href=\"#CA-Net-Revenue-Retention\" data-toc-modified-id=\"CA-Net-Revenue-Retention-4.3.2\"><span class=\"toc-item-num\">4.3.2&nbsp;&nbsp;</span>CA Net Revenue Retention</a></span></li><li><span><a href=\"#CA-Customer-Lifetime-Revenue\" data-toc-modified-id=\"CA-Customer-Lifetime-Revenue-4.3.3\"><span class=\"toc-item-num\">4.3.3&nbsp;&nbsp;</span>CA Customer Lifetime Revenue</a></span></li></ul></li></ul></li><li><span><a href=\"#Cohort-Layer-Cake\" data-toc-modified-id=\"Cohort-Layer-Cake-5\"><span class=\"toc-item-num\">5&nbsp;&nbsp;</span>Cohort Layer Cake</a></span><ul class=\"toc-item\"><li><span><a href=\"#Cohort-Layer-Cake\" data-toc-modified-id=\"Cohort-Layer-Cake-5.1\"><span class=\"toc-item-num\">5.1&nbsp;&nbsp;</span>Cohort Layer Cake</a></span></li></ul></li><li><span><a href=\"#Results-and-Conclusion\" data-toc-modified-id=\"Results-and-Conclusion-6\"><span class=\"toc-item-num\">6&nbsp;&nbsp;</span>Results and Conclusion</a></span></li></ul></div>"
   ]
  },
  {
   "cell_type": "markdown",
   "id": "3198ac77",
   "metadata": {},
   "source": [
    "# Objective\n",
    "* Create [Cohort Analysis Charts](https://www.clearpivot.com/blog/saas-cohort-analysis), separated based on Country of customers(top 3).\n",
    "* Create a [Cohort Layer Cake](https://exploratory.io/note/BWz1Bar4JF/How-to-make-a-layer-cake-chart-commonly-used-in-SaaS-cohort-analysis-FdX2bra9it) for overall data\n",
    "\n",
    "Cohort: group of people sharing something in common, such as month of purchase, sign-up date, geographical location etc.\n",
    "\n",
    "It is critical to consider the relationship between the metric under consideration and the business model. We can focus on user retention, generated revenue, and so on, depending on the company's goals."
   ]
  },
  {
   "cell_type": "markdown",
   "id": "3f289db9",
   "metadata": {},
   "source": [
    "## Metrics\n",
    "Following metrics are useful for a start-up ecosystem with subscription model to track their progress. \n",
    "1. **Customer Retention Rate**: tracks the number/percent of cohort made purchases for the subsequent months\n",
    "2. **Net Revenue Retention**: tells the % of total revenue for subsequent month with respect to the month of joining \n",
    "3. **Customer Lifetime Revenue**: tells the amount of cumulative revenue we make per customer for subsequent months\n",
    "4. **Customer Lifetime Value**: tells how much profit we make from each customer\n",
    "\n",
    "Customer lifetime value is of the most important metrics and should be included for analysis to understand the profit. However, we need gross margin to calculate. If we get that data then it should be included for analysis as well."
   ]
  },
  {
   "cell_type": "markdown",
   "id": "30b4ad40",
   "metadata": {},
   "source": [
    "## Assumptions\n",
    "Out of 5725 entries of country of transaction, 4047 were null values. Therefore it was important to impute them if possible. I assumed that the country of a customer is the country recorded in one of the transaction. However, it is possible that the customer used a card from another country or was temporarily residing in that country, but for the sake of simplicity, we will disregard the later. We will see later that most of the customer have country registered to them for some transactions. And for some transaction it was left empty. I made a dictionary with customerid and there country of transaction. We can use the dictionary to fill empty values.\n",
    "\n",
    "Since date of sign-up for customers is not given, we will consider that the first day of transaction for that particular customer in 2020 is the date of sign-up. This will allow us to make cohorts based on first transaction."
   ]
  },
  {
   "cell_type": "markdown",
   "id": "38997266",
   "metadata": {},
   "source": [
    "# Importing libraries and data frame"
   ]
  },
  {
   "cell_type": "code",
   "execution_count": 1,
   "id": "2ea35538",
   "metadata": {},
   "outputs": [],
   "source": [
    "import pandas as pd\n",
    "import datetime as dt\n",
    "import numpy as np\n",
    "import seaborn as sns\n",
    "import matplotlib.pyplot as plt\n",
    "import matplotlib.colors as mcolors\n",
    "import matplotlib.ticker as ticker\n",
    "from operator import attrgetter\n",
    "pd.set_option('display.max_rows', None)\n",
    "\n",
    "# turning off warnings for the notebook\n",
    "import warnings\n",
    "warnings.filterwarnings('ignore')"
   ]
  },
  {
   "cell_type": "markdown",
   "id": "ea26e40e",
   "metadata": {},
   "source": [
    "## Exploring dataframe"
   ]
  },
  {
   "cell_type": "code",
   "execution_count": 2,
   "id": "a5e6c389",
   "metadata": {
    "scrolled": false
   },
   "outputs": [
    {
     "data": {
      "text/html": [
       "<div>\n",
       "<style scoped>\n",
       "    .dataframe tbody tr th:only-of-type {\n",
       "        vertical-align: middle;\n",
       "    }\n",
       "\n",
       "    .dataframe tbody tr th {\n",
       "        vertical-align: top;\n",
       "    }\n",
       "\n",
       "    .dataframe thead th {\n",
       "        text-align: right;\n",
       "    }\n",
       "</style>\n",
       "<table border=\"1\" class=\"dataframe\">\n",
       "  <thead>\n",
       "    <tr style=\"text-align: right;\">\n",
       "      <th></th>\n",
       "      <th>created</th>\n",
       "      <th>paid</th>\n",
       "      <th>refunded</th>\n",
       "      <th>customer</th>\n",
       "      <th>card__country</th>\n",
       "    </tr>\n",
       "  </thead>\n",
       "  <tbody>\n",
       "    <tr>\n",
       "      <th>0</th>\n",
       "      <td>2020-10-21 04:45:40+00:00</td>\n",
       "      <td>250</td>\n",
       "      <td>250</td>\n",
       "      <td>cus_IF3JcGrw0aMpgv</td>\n",
       "      <td>US</td>\n",
       "    </tr>\n",
       "    <tr>\n",
       "      <th>1</th>\n",
       "      <td>2020-10-27 23:02:31+00:00</td>\n",
       "      <td>250</td>\n",
       "      <td>250</td>\n",
       "      <td>cus_IHaMqtFwUNAO09</td>\n",
       "      <td>US</td>\n",
       "    </tr>\n",
       "    <tr>\n",
       "      <th>2</th>\n",
       "      <td>2020-11-01 02:42:43+00:00</td>\n",
       "      <td>250</td>\n",
       "      <td>250</td>\n",
       "      <td>cus_IJ8oU3Lo2gaHls</td>\n",
       "      <td>DE</td>\n",
       "    </tr>\n",
       "    <tr>\n",
       "      <th>3</th>\n",
       "      <td>2020-11-17 19:51:25+00:00</td>\n",
       "      <td>750</td>\n",
       "      <td>0</td>\n",
       "      <td>cus_HbD8AagiDUOBoG</td>\n",
       "      <td>US</td>\n",
       "    </tr>\n",
       "    <tr>\n",
       "      <th>4</th>\n",
       "      <td>2020-11-17 21:28:58+00:00</td>\n",
       "      <td>250</td>\n",
       "      <td>0</td>\n",
       "      <td>cus_IDnbmEhzNjlGV0</td>\n",
       "      <td>GB</td>\n",
       "    </tr>\n",
       "    <tr>\n",
       "      <th>5</th>\n",
       "      <td>2020-11-17 22:00:05+00:00</td>\n",
       "      <td>250</td>\n",
       "      <td>0</td>\n",
       "      <td>cus_IPOi2mODKj9VxK</td>\n",
       "      <td>GB</td>\n",
       "    </tr>\n",
       "    <tr>\n",
       "      <th>6</th>\n",
       "      <td>2020-11-17 22:18:09+00:00</td>\n",
       "      <td>250</td>\n",
       "      <td>0</td>\n",
       "      <td>cus_FH0Csodtt6j0ff</td>\n",
       "      <td>US</td>\n",
       "    </tr>\n",
       "    <tr>\n",
       "      <th>7</th>\n",
       "      <td>2020-11-17 23:05:19+00:00</td>\n",
       "      <td>1000</td>\n",
       "      <td>0</td>\n",
       "      <td>cus_IBtiU1rmRe2oKe</td>\n",
       "      <td>US</td>\n",
       "    </tr>\n",
       "    <tr>\n",
       "      <th>8</th>\n",
       "      <td>2020-11-17 23:06:20+00:00</td>\n",
       "      <td>250</td>\n",
       "      <td>0</td>\n",
       "      <td>cus_IFGe6elQiZ5nmG</td>\n",
       "      <td>US</td>\n",
       "    </tr>\n",
       "    <tr>\n",
       "      <th>9</th>\n",
       "      <td>2020-11-17 23:12:04+00:00</td>\n",
       "      <td>250</td>\n",
       "      <td>0</td>\n",
       "      <td>cus_IPSFRhCvHRLSEz</td>\n",
       "      <td>AU</td>\n",
       "    </tr>\n",
       "    <tr>\n",
       "      <th>10</th>\n",
       "      <td>2020-12-04 06:29:28+00:00</td>\n",
       "      <td>31</td>\n",
       "      <td>0</td>\n",
       "      <td>cus_Hu0bpPwajQ2UyQ</td>\n",
       "      <td>AU</td>\n",
       "    </tr>\n",
       "    <tr>\n",
       "      <th>11</th>\n",
       "      <td>2020-11-17 23:15:13+00:00</td>\n",
       "      <td>250</td>\n",
       "      <td>0</td>\n",
       "      <td>cus_HU7mko557uvzEL</td>\n",
       "      <td>DE</td>\n",
       "    </tr>\n",
       "    <tr>\n",
       "      <th>12</th>\n",
       "      <td>2020-11-17 23:16:10+00:00</td>\n",
       "      <td>250</td>\n",
       "      <td>0</td>\n",
       "      <td>cus_HU7mjthwgY1WdN</td>\n",
       "      <td>US</td>\n",
       "    </tr>\n",
       "    <tr>\n",
       "      <th>13</th>\n",
       "      <td>2020-11-17 23:24:46+00:00</td>\n",
       "      <td>250</td>\n",
       "      <td>0</td>\n",
       "      <td>cus_HfMhqQsQ66d74e</td>\n",
       "      <td>US</td>\n",
       "    </tr>\n",
       "    <tr>\n",
       "      <th>14</th>\n",
       "      <td>2020-11-18 00:52:48+00:00</td>\n",
       "      <td>250</td>\n",
       "      <td>0</td>\n",
       "      <td>cus_Hr07hsOdspdDjP</td>\n",
       "      <td>US</td>\n",
       "    </tr>\n",
       "    <tr>\n",
       "      <th>15</th>\n",
       "      <td>2020-11-18 01:06:00+00:00</td>\n",
       "      <td>140</td>\n",
       "      <td>0</td>\n",
       "      <td>cus_HeVdRRDdeT0Reo</td>\n",
       "      <td>US</td>\n",
       "    </tr>\n",
       "    <tr>\n",
       "      <th>16</th>\n",
       "      <td>2020-11-18 01:59:04+00:00</td>\n",
       "      <td>250</td>\n",
       "      <td>0</td>\n",
       "      <td>cus_I2dCn1QzeR6piu</td>\n",
       "      <td>US</td>\n",
       "    </tr>\n",
       "    <tr>\n",
       "      <th>17</th>\n",
       "      <td>2020-11-18 03:18:06+00:00</td>\n",
       "      <td>250</td>\n",
       "      <td>0</td>\n",
       "      <td>cus_Hr07hsOdspdDjP</td>\n",
       "      <td>US</td>\n",
       "    </tr>\n",
       "    <tr>\n",
       "      <th>18</th>\n",
       "      <td>2020-11-18 05:18:37+00:00</td>\n",
       "      <td>250</td>\n",
       "      <td>0</td>\n",
       "      <td>cus_IPYAtoZIBgDpZv</td>\n",
       "      <td>US</td>\n",
       "    </tr>\n",
       "    <tr>\n",
       "      <th>19</th>\n",
       "      <td>2020-11-18 05:41:20+00:00</td>\n",
       "      <td>250</td>\n",
       "      <td>0</td>\n",
       "      <td>cus_IPYWFvm4H8BKR5</td>\n",
       "      <td>US</td>\n",
       "    </tr>\n",
       "  </tbody>\n",
       "</table>\n",
       "</div>"
      ],
      "text/plain": [
       "                     created  paid  refunded            customer card__country\n",
       "0  2020-10-21 04:45:40+00:00   250       250  cus_IF3JcGrw0aMpgv            US\n",
       "1  2020-10-27 23:02:31+00:00   250       250  cus_IHaMqtFwUNAO09            US\n",
       "2  2020-11-01 02:42:43+00:00   250       250  cus_IJ8oU3Lo2gaHls            DE\n",
       "3  2020-11-17 19:51:25+00:00   750         0  cus_HbD8AagiDUOBoG            US\n",
       "4  2020-11-17 21:28:58+00:00   250         0  cus_IDnbmEhzNjlGV0            GB\n",
       "5  2020-11-17 22:00:05+00:00   250         0  cus_IPOi2mODKj9VxK            GB\n",
       "6  2020-11-17 22:18:09+00:00   250         0  cus_FH0Csodtt6j0ff            US\n",
       "7  2020-11-17 23:05:19+00:00  1000         0  cus_IBtiU1rmRe2oKe            US\n",
       "8  2020-11-17 23:06:20+00:00   250         0  cus_IFGe6elQiZ5nmG            US\n",
       "9  2020-11-17 23:12:04+00:00   250         0  cus_IPSFRhCvHRLSEz            AU\n",
       "10 2020-12-04 06:29:28+00:00    31         0  cus_Hu0bpPwajQ2UyQ            AU\n",
       "11 2020-11-17 23:15:13+00:00   250         0  cus_HU7mko557uvzEL            DE\n",
       "12 2020-11-17 23:16:10+00:00   250         0  cus_HU7mjthwgY1WdN            US\n",
       "13 2020-11-17 23:24:46+00:00   250         0  cus_HfMhqQsQ66d74e            US\n",
       "14 2020-11-18 00:52:48+00:00   250         0  cus_Hr07hsOdspdDjP            US\n",
       "15 2020-11-18 01:06:00+00:00   140         0  cus_HeVdRRDdeT0Reo            US\n",
       "16 2020-11-18 01:59:04+00:00   250         0  cus_I2dCn1QzeR6piu            US\n",
       "17 2020-11-18 03:18:06+00:00   250         0  cus_Hr07hsOdspdDjP            US\n",
       "18 2020-11-18 05:18:37+00:00   250         0  cus_IPYAtoZIBgDpZv            US\n",
       "19 2020-11-18 05:41:20+00:00   250         0  cus_IPYWFvm4H8BKR5            US"
      ]
     },
     "execution_count": 2,
     "metadata": {},
     "output_type": "execute_result"
    }
   ],
   "source": [
    "df = pd.read_csv('./dataset_dataAnalyst_fly.csv', header=1, parse_dates=['created'])\n",
    "df.head(20)"
   ]
  },
  {
   "cell_type": "code",
   "execution_count": 3,
   "id": "876d45eb",
   "metadata": {},
   "outputs": [
    {
     "data": {
      "text/plain": [
       "Index(['created', 'paid', 'refunded', 'customer', 'card__country'], dtype='object')"
      ]
     },
     "execution_count": 3,
     "metadata": {},
     "output_type": "execute_result"
    }
   ],
   "source": [
    "df.columns"
   ]
  },
  {
   "cell_type": "code",
   "execution_count": 4,
   "id": "54d1ce6a",
   "metadata": {},
   "outputs": [
    {
     "name": "stdout",
     "output_type": "stream",
     "text": [
      "<class 'pandas.core.frame.DataFrame'>\n",
      "RangeIndex: 5725 entries, 0 to 5724\n",
      "Data columns (total 5 columns):\n",
      " #   Column         Non-Null Count  Dtype              \n",
      "---  ------         --------------  -----              \n",
      " 0   created        5725 non-null   datetime64[ns, UTC]\n",
      " 1   paid           5725 non-null   int64              \n",
      " 2   refunded       5725 non-null   int64              \n",
      " 3   customer       5725 non-null   object             \n",
      " 4   card__country  1678 non-null   object             \n",
      "dtypes: datetime64[ns, UTC](1), int64(2), object(2)\n",
      "memory usage: 223.8+ KB\n"
     ]
    }
   ],
   "source": [
    "df.info()"
   ]
  },
  {
   "cell_type": "markdown",
   "id": "bdcc9156",
   "metadata": {},
   "source": [
    "Dataset has 5725 rows and 5 columns. card__country column has null entries. Let's take a look at the card__country column later to see what's going on."
   ]
  },
  {
   "cell_type": "code",
   "execution_count": 5,
   "id": "4122f0f6",
   "metadata": {},
   "outputs": [],
   "source": [
    "df = df.drop_duplicates() # removing duplicate entries if any present"
   ]
  },
  {
   "cell_type": "code",
   "execution_count": 6,
   "id": "a0ec9a69",
   "metadata": {},
   "outputs": [
    {
     "data": {
      "text/plain": [
       "(5725, 5)"
      ]
     },
     "execution_count": 6,
     "metadata": {},
     "output_type": "execute_result"
    }
   ],
   "source": [
    "df.shape"
   ]
  },
  {
   "cell_type": "markdown",
   "id": "b4e8c311",
   "metadata": {},
   "source": [
    "No duplicate entry in the dataset."
   ]
  },
  {
   "cell_type": "code",
   "execution_count": 7,
   "id": "08c9d69f",
   "metadata": {},
   "outputs": [
    {
     "data": {
      "text/html": [
       "<div>\n",
       "<style scoped>\n",
       "    .dataframe tbody tr th:only-of-type {\n",
       "        vertical-align: middle;\n",
       "    }\n",
       "\n",
       "    .dataframe tbody tr th {\n",
       "        vertical-align: top;\n",
       "    }\n",
       "\n",
       "    .dataframe thead th {\n",
       "        text-align: right;\n",
       "    }\n",
       "</style>\n",
       "<table border=\"1\" class=\"dataframe\">\n",
       "  <thead>\n",
       "    <tr style=\"text-align: right;\">\n",
       "      <th></th>\n",
       "      <th>paid</th>\n",
       "      <th>refunded</th>\n",
       "    </tr>\n",
       "  </thead>\n",
       "  <tbody>\n",
       "    <tr>\n",
       "      <th>count</th>\n",
       "      <td>5725.000000</td>\n",
       "      <td>5725.000000</td>\n",
       "    </tr>\n",
       "    <tr>\n",
       "      <th>mean</th>\n",
       "      <td>249.217817</td>\n",
       "      <td>24.466725</td>\n",
       "    </tr>\n",
       "    <tr>\n",
       "      <th>std</th>\n",
       "      <td>254.749626</td>\n",
       "      <td>149.333477</td>\n",
       "    </tr>\n",
       "    <tr>\n",
       "      <th>min</th>\n",
       "      <td>1.000000</td>\n",
       "      <td>0.000000</td>\n",
       "    </tr>\n",
       "    <tr>\n",
       "      <th>25%</th>\n",
       "      <td>250.000000</td>\n",
       "      <td>0.000000</td>\n",
       "    </tr>\n",
       "    <tr>\n",
       "      <th>50%</th>\n",
       "      <td>250.000000</td>\n",
       "      <td>0.000000</td>\n",
       "    </tr>\n",
       "    <tr>\n",
       "      <th>75%</th>\n",
       "      <td>250.000000</td>\n",
       "      <td>0.000000</td>\n",
       "    </tr>\n",
       "    <tr>\n",
       "      <th>max</th>\n",
       "      <td>8475.000000</td>\n",
       "      <td>8475.000000</td>\n",
       "    </tr>\n",
       "  </tbody>\n",
       "</table>\n",
       "</div>"
      ],
      "text/plain": [
       "              paid     refunded\n",
       "count  5725.000000  5725.000000\n",
       "mean    249.217817    24.466725\n",
       "std     254.749626   149.333477\n",
       "min       1.000000     0.000000\n",
       "25%     250.000000     0.000000\n",
       "50%     250.000000     0.000000\n",
       "75%     250.000000     0.000000\n",
       "max    8475.000000  8475.000000"
      ]
     },
     "execution_count": 7,
     "metadata": {},
     "output_type": "execute_result"
    }
   ],
   "source": [
    "df.describe()"
   ]
  },
  {
   "cell_type": "markdown",
   "id": "3293ab17",
   "metadata": {},
   "source": [
    "# EDA and handling missing data"
   ]
  },
  {
   "cell_type": "code",
   "execution_count": 8,
   "id": "56d13577",
   "metadata": {},
   "outputs": [
    {
     "data": {
      "text/plain": [
       "US    997\n",
       "AU    203\n",
       "CA    190\n",
       "GB     99\n",
       "FI     32\n",
       "Name: card__country, dtype: int64"
      ]
     },
     "execution_count": 8,
     "metadata": {},
     "output_type": "execute_result"
    }
   ],
   "source": [
    "df['card__country'].value_counts().head()"
   ]
  },
  {
   "cell_type": "code",
   "execution_count": 9,
   "id": "a7914bed",
   "metadata": {},
   "outputs": [
    {
     "data": {
      "text/plain": [
       "4047"
      ]
     },
     "execution_count": 9,
     "metadata": {},
     "output_type": "execute_result"
    }
   ],
   "source": [
    "df['card__country'].isnull().sum()"
   ]
  },
  {
   "cell_type": "markdown",
   "id": "707e7ea0",
   "metadata": {},
   "source": [
    "Out of 5725 entries, 4047 is registered as null. Let's explore the dataframe. Since the business is interested in learning cohort analysis by country, it's important to impute them if possible."
   ]
  },
  {
   "cell_type": "code",
   "execution_count": 10,
   "id": "6270447b",
   "metadata": {
    "scrolled": true
   },
   "outputs": [
    {
     "data": {
      "text/plain": [
       "cus_EBYELf8JdrJyb9    131\n",
       "cus_EWAUfGkrL5IvxY    119\n",
       "cus_Fp6W2Je1FuSzb8    112\n",
       "cus_G2WzCyZIHtjVUU     63\n",
       "cus_HeVdRRDdeT0Reo     59\n",
       "Name: customer, dtype: int64"
      ]
     },
     "execution_count": 10,
     "metadata": {},
     "output_type": "execute_result"
    }
   ],
   "source": [
    "df['customer'].value_counts().head()"
   ]
  },
  {
   "cell_type": "markdown",
   "id": "a22d8160",
   "metadata": {},
   "source": [
    "Let's explore the dataframe for most frequent customers."
   ]
  },
  {
   "cell_type": "code",
   "execution_count": 11,
   "id": "4dde1a6b",
   "metadata": {},
   "outputs": [
    {
     "name": "stdout",
     "output_type": "stream",
     "text": [
      "Null entries: 131\n",
      "Total entries: 131\n"
     ]
    }
   ],
   "source": [
    "print('Null entries: {}'.format(df[df['customer']=='cus_EBYELf8JdrJyb9']['card__country'].isnull().sum()))\n",
    "print('Total entries: {}'.format(df[df['customer']=='cus_EBYELf8JdrJyb9'].shape[0]))"
   ]
  },
  {
   "cell_type": "markdown",
   "id": "7c6237c9",
   "metadata": {},
   "source": [
    "The card__country for most frequent user was never registered. One should check this data set with team members to figure out why we don't have the country registered."
   ]
  },
  {
   "cell_type": "code",
   "execution_count": 12,
   "id": "b361357c",
   "metadata": {
    "scrolled": true
   },
   "outputs": [
    {
     "name": "stdout",
     "output_type": "stream",
     "text": [
      "Null entries: 51\n",
      "US    8\n",
      "Name: card__country, dtype: int64\n"
     ]
    }
   ],
   "source": [
    "print('Null entries: {}'.format(df[df['customer']=='cus_HeVdRRDdeT0Reo']['card__country'].isnull().sum()))\n",
    "print(df[df['customer']=='cus_HeVdRRDdeT0Reo']['card__country'].value_counts())"
   ]
  },
  {
   "cell_type": "markdown",
   "id": "ef63e618",
   "metadata": {},
   "source": [
    "Here, we can see that 'US' is registered for this customer for only 8 times out of 59 transactions. We will impute those missing card_country with the country it was registered for at least once i.e 'US'."
   ]
  },
  {
   "cell_type": "code",
   "execution_count": 13,
   "id": "a468546c",
   "metadata": {
    "scrolled": true
   },
   "outputs": [
    {
     "data": {
      "text/plain": [
       "customer\n",
       "cus_CwSO8T9SgVAWNf    [US, nan]\n",
       "cus_CxzsPrwyznl8N4    [nan, HK]\n",
       "cus_CyAeHVthrXMWuD    [US, nan]\n",
       "cus_Czg30AGGyMdd28        [nan]\n",
       "cus_CzgtFofM3cUT6H    [nan, US]\n",
       "cus_CzniA5OK8TuE5g        [nan]\n",
       "cus_D1uyQMbtcZImDc        [nan]\n",
       "cus_D2fn0PUunyrfbq        [nan]\n",
       "cus_D8RLGrvnYemKtP        [nan]\n",
       "cus_DF5ZQ9ShmQHAXu    [nan, US]\n",
       "Name: card__country, dtype: object"
      ]
     },
     "execution_count": 13,
     "metadata": {},
     "output_type": "execute_result"
    }
   ],
   "source": [
    "# make a dataframe with customerid and there respective registered country\n",
    "customer_country = df.groupby(['customer'])['card__country'].unique()\n",
    "customer_country.head(10)"
   ]
  },
  {
   "cell_type": "markdown",
   "id": "3b76efbb",
   "metadata": {},
   "source": [
    "We can see that most of the customers have registered the country at least once. Somehow for their transactions it is registered as null. We will impute those null with the country registered at least once.\n",
    "\n",
    "Below we will check if there is any customer with more than one country registered."
   ]
  },
  {
   "cell_type": "code",
   "execution_count": 14,
   "id": "c9909546",
   "metadata": {},
   "outputs": [
    {
     "name": "stdout",
     "output_type": "stream",
     "text": [
      "The index of customer with more than one country registered is 458\n"
     ]
    }
   ],
   "source": [
    "for i in range(len(customer_country)):\n",
    "    if len(customer_country[i])>2:\n",
    "        print('The index of customer with more than one country registered is {}'.format(i))"
   ]
  },
  {
   "cell_type": "code",
   "execution_count": 15,
   "id": "903cd23c",
   "metadata": {},
   "outputs": [
    {
     "data": {
      "text/plain": [
       "customer\n",
       "cus_HeaAPqqR8UVf0u            [nan]\n",
       "cus_HeabmOXLvcEMet        [nan, CA]\n",
       "cus_HeacrvjitK0QGF        [nan, US]\n",
       "cus_Hed1nOJjSeOkFe    [nan, US, BE]\n",
       "cus_HeiNPezJI1Xpl8        [US, nan]\n",
       "Name: card__country, dtype: object"
      ]
     },
     "execution_count": 15,
     "metadata": {},
     "output_type": "execute_result"
    }
   ],
   "source": [
    "customer_country[455:460]"
   ]
  },
  {
   "cell_type": "code",
   "execution_count": 16,
   "id": "d6d4ab2b",
   "metadata": {},
   "outputs": [],
   "source": [
    "## removing this customer from further analysis\n",
    "df = df[df['customer']!= 'cus_Hed1nOJjSeOkFe']"
   ]
  },
  {
   "cell_type": "markdown",
   "id": "7de3d57d",
   "metadata": {},
   "source": [
    "Not sure why this customer has been registered with more than one country. It could be an entry error. We will remove it for further analysis. "
   ]
  },
  {
   "cell_type": "code",
   "execution_count": 17,
   "id": "20489ae3",
   "metadata": {},
   "outputs": [],
   "source": [
    "#converting dataframe of customer_country to dictionary\n",
    "customer_country = customer_country.apply(list).to_dict()"
   ]
  },
  {
   "cell_type": "code",
   "execution_count": 18,
   "id": "fc45960a",
   "metadata": {},
   "outputs": [],
   "source": [
    "customer_country_dict = {}\n",
    "for key,value in customer_country.items():\n",
    "    if len(value)==2:\n",
    "        val1 = customer_country[key][0]\n",
    "        val2 = customer_country[key][1]\n",
    "        if str(val1)!='nan':\n",
    "            customer_country_dict[key]=val1\n",
    "        else:\n",
    "            customer_country_dict[key]=val2\n",
    "    else:\n",
    "        customer_country_dict[key] = value[0]"
   ]
  },
  {
   "cell_type": "code",
   "execution_count": 19,
   "id": "0f5e41ff",
   "metadata": {},
   "outputs": [],
   "source": [
    "df['card__country']= df.apply(lambda x: customer_country_dict[x['customer']], axis=1)"
   ]
  },
  {
   "cell_type": "code",
   "execution_count": 20,
   "id": "160f5408",
   "metadata": {},
   "outputs": [
    {
     "data": {
      "text/plain": [
       "US    2349\n",
       "AU     361\n",
       "CA     316\n",
       "GB     150\n",
       "FI     107\n",
       "IE      50\n",
       "DE      47\n",
       "SG      45\n",
       "EE      28\n",
       "MT      23\n",
       "IL      23\n",
       "UA      23\n",
       "ES      22\n",
       "FR      20\n",
       "HK      16\n",
       "PL      15\n",
       "NL      15\n",
       "IN       9\n",
       "RU       9\n",
       "JP       4\n",
       "CN       4\n",
       "NZ       3\n",
       "IT       3\n",
       "KW       2\n",
       "DK       2\n",
       "LT       2\n",
       "CD       1\n",
       "NG       1\n",
       "AE       1\n",
       "TW       1\n",
       "LV       1\n",
       "KE       1\n",
       "Name: card__country, dtype: int64"
      ]
     },
     "execution_count": 20,
     "metadata": {},
     "output_type": "execute_result"
    }
   ],
   "source": [
    "df['card__country'].value_counts()"
   ]
  },
  {
   "cell_type": "markdown",
   "id": "0ffa30a6",
   "metadata": {},
   "source": [
    "The 3 most represented countries are: **US, AU, and CA**"
   ]
  },
  {
   "cell_type": "code",
   "execution_count": 21,
   "id": "5dd495f2",
   "metadata": {},
   "outputs": [
    {
     "data": {
      "text/plain": [
       "2068"
      ]
     },
     "execution_count": 21,
     "metadata": {},
     "output_type": "execute_result"
    }
   ],
   "source": [
    "df['card__country'].isnull().sum()"
   ]
  },
  {
   "cell_type": "markdown",
   "id": "32313be0",
   "metadata": {},
   "source": [
    "We still have 2068 card__country/transactions with null value. It means that for some customers, the country has never been registered."
   ]
  },
  {
   "cell_type": "code",
   "execution_count": 22,
   "id": "36107723",
   "metadata": {},
   "outputs": [
    {
     "data": {
      "image/png": "[encoded data removed]",
      "text/plain": [
       "<Figure size 432x288 with 1 Axes>"
      ]
     },
     "metadata": {
      "needs_background": "light"
     },
     "output_type": "display_data"
    }
   ],
   "source": [
    "sns.distplot(df['paid']);"
   ]
  },
  {
   "cell_type": "markdown",
   "id": "feacd3cb",
   "metadata": {},
   "source": [
    "There are some infrequent cases of customers, who paid more than $ 8000."
   ]
  },
  {
   "cell_type": "code",
   "execution_count": 23,
   "id": "ef3324ef",
   "metadata": {},
   "outputs": [
    {
     "data": {
      "image/png": "[encoded data removed]",
      "text/plain": [
       "<Figure size 432x288 with 1 Axes>"
      ]
     },
     "metadata": {
      "needs_background": "light"
     },
     "output_type": "display_data"
    }
   ],
   "source": [
    "sns.distplot(df['refunded']);"
   ]
  },
  {
   "cell_type": "markdown",
   "id": "80de2f44",
   "metadata": {},
   "source": [
    "Similar to paid chart."
   ]
  },
  {
   "cell_type": "code",
   "execution_count": 24,
   "id": "f5449f37",
   "metadata": {},
   "outputs": [
    {
     "name": "stdout",
     "output_type": "stream",
     "text": [
      "15.48% of customers ordered more than once.\n"
     ]
    }
   ],
   "source": [
    "# function to count the % of customers who ordered more than once\n",
    "n_orders = df.groupby(['customer'])['paid'].nunique() # no. of orders placed by a customer\n",
    "mult_orders_perc = np.sum(n_orders > 1) / df['customer'].nunique()\n",
    "print(f'{100 * mult_orders_perc:.2f}% of customers ordered more than once.')"
   ]
  },
  {
   "cell_type": "markdown",
   "id": "b6429cc2",
   "metadata": {},
   "source": [
    "Only 15.48% of the customers paid more than once. This is low in number. However, we will still look for retention rate to have an idea."
   ]
  },
  {
   "cell_type": "code",
   "execution_count": 25,
   "id": "e651c359",
   "metadata": {},
   "outputs": [
    {
     "name": "stdout",
     "output_type": "stream",
     "text": [
      "8.67% of customers asked for refund\n"
     ]
    }
   ],
   "source": [
    "refunded_perc = df[df['refunded']!=0].shape[0] / df.shape[0]\n",
    "print(f'{100 * refunded_perc:.2f}% of customers asked for refund')"
   ]
  },
  {
   "cell_type": "code",
   "execution_count": 26,
   "id": "b96d3d59",
   "metadata": {},
   "outputs": [],
   "source": [
    "# creating a new column to get the net revenue by a customer\n",
    "df['net_revenue'] = df['paid']-df['refunded']"
   ]
  },
  {
   "cell_type": "markdown",
   "id": "7efe5e7c",
   "metadata": {},
   "source": [
    "Made a net_revenue column to capture the actual revenue generated by company for that transaction."
   ]
  },
  {
   "cell_type": "markdown",
   "id": "631778c5",
   "metadata": {},
   "source": [
    "# Cohort Analysis\n",
    "The top three most frequent countries are: **United State(US), Australia(AU), and Canada(CA)**"
   ]
  },
  {
   "cell_type": "code",
   "execution_count": 27,
   "id": "e6793f35",
   "metadata": {},
   "outputs": [
    {
     "name": "stdout",
     "output_type": "stream",
     "text": [
      "Customers in US: 408\n",
      "Customers in AU: 71\n",
      "Customers in CA: 96\n"
     ]
    }
   ],
   "source": [
    "print('Customers in US: {}'.format(df[df['card__country']=='US']['customer'].nunique()))\n",
    "print('Customers in AU: {}'.format(df[df['card__country']=='AU']['customer'].nunique()))\n",
    "print('Customers in CA: {}'.format(df[df['card__country']=='CA']['customer'].nunique()))"
   ]
  },
  {
   "cell_type": "markdown",
   "id": "47ef1f66",
   "metadata": {},
   "source": [
    "## Cohort Analysis for 'US'"
   ]
  },
  {
   "cell_type": "code",
   "execution_count": 28,
   "id": "76f84989",
   "metadata": {},
   "outputs": [
    {
     "data": {
      "text/html": [
       "<div>\n",
       "<style scoped>\n",
       "    .dataframe tbody tr th:only-of-type {\n",
       "        vertical-align: middle;\n",
       "    }\n",
       "\n",
       "    .dataframe tbody tr th {\n",
       "        vertical-align: top;\n",
       "    }\n",
       "\n",
       "    .dataframe thead th {\n",
       "        text-align: right;\n",
       "    }\n",
       "</style>\n",
       "<table border=\"1\" class=\"dataframe\">\n",
       "  <thead>\n",
       "    <tr style=\"text-align: right;\">\n",
       "      <th></th>\n",
       "      <th>created</th>\n",
       "      <th>paid</th>\n",
       "      <th>refunded</th>\n",
       "      <th>customer</th>\n",
       "      <th>card__country</th>\n",
       "      <th>net_revenue</th>\n",
       "    </tr>\n",
       "  </thead>\n",
       "  <tbody>\n",
       "    <tr>\n",
       "      <th>0</th>\n",
       "      <td>2020-10-21 04:45:40+00:00</td>\n",
       "      <td>250</td>\n",
       "      <td>250</td>\n",
       "      <td>cus_IF3JcGrw0aMpgv</td>\n",
       "      <td>US</td>\n",
       "      <td>0</td>\n",
       "    </tr>\n",
       "    <tr>\n",
       "      <th>1</th>\n",
       "      <td>2020-10-27 23:02:31+00:00</td>\n",
       "      <td>250</td>\n",
       "      <td>250</td>\n",
       "      <td>cus_IHaMqtFwUNAO09</td>\n",
       "      <td>US</td>\n",
       "      <td>0</td>\n",
       "    </tr>\n",
       "    <tr>\n",
       "      <th>3</th>\n",
       "      <td>2020-11-17 19:51:25+00:00</td>\n",
       "      <td>750</td>\n",
       "      <td>0</td>\n",
       "      <td>cus_HbD8AagiDUOBoG</td>\n",
       "      <td>US</td>\n",
       "      <td>750</td>\n",
       "    </tr>\n",
       "    <tr>\n",
       "      <th>6</th>\n",
       "      <td>2020-11-17 22:18:09+00:00</td>\n",
       "      <td>250</td>\n",
       "      <td>0</td>\n",
       "      <td>cus_FH0Csodtt6j0ff</td>\n",
       "      <td>US</td>\n",
       "      <td>250</td>\n",
       "    </tr>\n",
       "    <tr>\n",
       "      <th>7</th>\n",
       "      <td>2020-11-17 23:05:19+00:00</td>\n",
       "      <td>1000</td>\n",
       "      <td>0</td>\n",
       "      <td>cus_IBtiU1rmRe2oKe</td>\n",
       "      <td>US</td>\n",
       "      <td>1000</td>\n",
       "    </tr>\n",
       "  </tbody>\n",
       "</table>\n",
       "</div>"
      ],
      "text/plain": [
       "                    created  paid  refunded            customer card__country  \\\n",
       "0 2020-10-21 04:45:40+00:00   250       250  cus_IF3JcGrw0aMpgv            US   \n",
       "1 2020-10-27 23:02:31+00:00   250       250  cus_IHaMqtFwUNAO09            US   \n",
       "3 2020-11-17 19:51:25+00:00   750         0  cus_HbD8AagiDUOBoG            US   \n",
       "6 2020-11-17 22:18:09+00:00   250         0  cus_FH0Csodtt6j0ff            US   \n",
       "7 2020-11-17 23:05:19+00:00  1000         0  cus_IBtiU1rmRe2oKe            US   \n",
       "\n",
       "   net_revenue  \n",
       "0            0  \n",
       "1            0  \n",
       "3          750  \n",
       "6          250  \n",
       "7         1000  "
      ]
     },
     "execution_count": 28,
     "metadata": {},
     "output_type": "execute_result"
    }
   ],
   "source": [
    "df_us = df[df['card__country']==\"US\"]\n",
    "df_us.head()"
   ]
  },
  {
   "cell_type": "code",
   "execution_count": 29,
   "id": "8dda2793",
   "metadata": {},
   "outputs": [
    {
     "data": {
      "text/plain": [
       "(2349, 6)"
      ]
     },
     "execution_count": 29,
     "metadata": {},
     "output_type": "execute_result"
    }
   ],
   "source": [
    "df_us.shape"
   ]
  },
  {
   "cell_type": "code",
   "execution_count": 30,
   "id": "f7484d56",
   "metadata": {
    "scrolled": true
   },
   "outputs": [],
   "source": [
    "def cohort_period(x):\n",
    "    \"\"\"\n",
    "    Function creates two columns which include date of sign-up and month of transaction\n",
    "    Parameters: x is dataframe on which we are adding the two column\n",
    "    Returns: dataframe with added columns\n",
    "    \"\"\"\n",
    "    x['order_month'] = x['created'].dt.to_period('M')\n",
    "    x['cohort'] = x.groupby('customer')['created'].transform('min').dt.to_period('M')\n",
    "    return x"
   ]
  },
  {
   "cell_type": "code",
   "execution_count": 31,
   "id": "066ec6fd",
   "metadata": {},
   "outputs": [],
   "source": [
    "def cohort_analysis(x):\n",
    "    \"\"\"\n",
    "    Function creates four columns which captures no. of customer in cohort, revenue generated by cohort, \n",
    "    cumulative revenue per customer, and period which signifies the subsequent months for that cohort.\n",
    "    Parameters: x is dataframe on which we are adding the columns\n",
    "    Returns: dataframe with added columns\n",
    "    \"\"\"\n",
    "    # no. of customer in that cohort\n",
    "    y=x.groupby(['cohort', 'order_month']).agg(n_customers=('customer', 'nunique')).reset_index(drop=False)\n",
    "    \n",
    "    # net revenue or sum of spending by customer in that cohort\n",
    "    b=x.groupby(['cohort', 'order_month']).agg(revenue=('net_revenue', 'sum')).reset_index(drop=False)\n",
    "    y['revenue']=b['revenue']\n",
    "    \n",
    "    # cumulative revenue per customer\n",
    "    a=x.groupby(['cohort','order_month']).agg(cum_revenue=('net_revenue','sum')).groupby(level=0).cumsum().reset_index()\n",
    "    y['clr'] = a['cum_revenue']/y['n_customers']\n",
    "    y['period_number']=(y.order_month - y.cohort).apply(attrgetter('n'))\n",
    "    return y"
   ]
  },
  {
   "cell_type": "code",
   "execution_count": 32,
   "id": "f09f48b1",
   "metadata": {},
   "outputs": [],
   "source": [
    "def cohort_chart(x,value,title):\n",
    "    \"\"\"\n",
    "    Function creates cohort analysis chart based on the value given\n",
    "    Parameters: x is dataframe, value is data of interest, and title is for graph title\n",
    "    Returns: graph of cohort analysis\n",
    "    \"\"\"\n",
    "    cohort_pivot = x.pivot_table(index='cohort',columns='period_number',values=value)\n",
    "    cohort_size = cohort_pivot.iloc[:,0]\n",
    "    retention_matrix = cohort_pivot.divide(cohort_size, axis = 0)\n",
    "    fmt='.0%'\n",
    "    # for customer lifetime revenue(clr), we are interested in knowing total amount and not %, \n",
    "    # so change fmt and matrix\n",
    "    if value=='clr':\n",
    "        retention_matrix=cohort_pivot\n",
    "        fmt='.0f'\n",
    "        \n",
    "    sns.axes_style(\"white\")\n",
    "    # created a grid which shows the no. of customer(cohort size) in that cohort.\n",
    "    if value=='n_customers':\n",
    "        fig, ax = plt.subplots(1, 2, figsize=(12, 8), sharey=True, gridspec_kw={'width_ratios': [1, 11]})\n",
    "        # cohort size\n",
    "        cohort_size_df = pd.DataFrame(cohort_size).rename(columns={0: 'cohort_size'})\n",
    "        white_cmap = mcolors.ListedColormap(['white'])\n",
    "        sns.heatmap(cohort_size_df, annot=True, cbar=False, fmt='g', cmap=white_cmap, ax=ax[0])\n",
    "        #retention matrix\n",
    "        sns.heatmap(retention_matrix, mask=retention_matrix.isnull(), annot=True, fmt='.0%', cmap='RdYlGn', ax=ax[1])\n",
    "        ax[1].set_title(title, fontsize=16)\n",
    "        ax[1].set(xlabel='# of periods',ylabel='')\n",
    "    else:\n",
    "        fig, ax = plt.subplots(figsize=(12, 8))\n",
    "        # retention matrix\n",
    "        sns.heatmap(retention_matrix, \n",
    "                    mask=retention_matrix.isnull(), \n",
    "                    annot=True, \n",
    "                    fmt=fmt,\n",
    "                    linewidth=0.3,\n",
    "                    cmap='RdYlGn_r', \n",
    "                    ax=ax)\n",
    "        ax.set_title(title, fontsize=16)\n",
    "        ax.set(xlabel='# of periods',\n",
    "                  ylabel='Cohort')\n",
    "\n",
    "    fig.tight_layout()\n",
    "    # saving the high definition image\n",
    "    plt.savefig('.\\cohortcharts\\{}.svg'.format(title), format='svg', dpi=1200)"
   ]
  },
  {
   "cell_type": "markdown",
   "id": "160f6dc2",
   "metadata": {},
   "source": [
    "**Period** is created to track the order made by cohort in subsequent months. Period = 1 indicates that the cohort has placed orders within the next month of joining. Period=2 denotes that the cohort placed orders in the second month after joining, and so on."
   ]
  },
  {
   "cell_type": "code",
   "execution_count": 33,
   "id": "b6b6476b",
   "metadata": {},
   "outputs": [
    {
     "data": {
      "text/html": [
       "<div>\n",
       "<style scoped>\n",
       "    .dataframe tbody tr th:only-of-type {\n",
       "        vertical-align: middle;\n",
       "    }\n",
       "\n",
       "    .dataframe tbody tr th {\n",
       "        vertical-align: top;\n",
       "    }\n",
       "\n",
       "    .dataframe thead th {\n",
       "        text-align: right;\n",
       "    }\n",
       "</style>\n",
       "<table border=\"1\" class=\"dataframe\">\n",
       "  <thead>\n",
       "    <tr style=\"text-align: right;\">\n",
       "      <th></th>\n",
       "      <th>created</th>\n",
       "      <th>paid</th>\n",
       "      <th>refunded</th>\n",
       "      <th>customer</th>\n",
       "      <th>card__country</th>\n",
       "      <th>net_revenue</th>\n",
       "      <th>order_month</th>\n",
       "      <th>cohort</th>\n",
       "    </tr>\n",
       "  </thead>\n",
       "  <tbody>\n",
       "    <tr>\n",
       "      <th>0</th>\n",
       "      <td>2020-10-21 04:45:40+00:00</td>\n",
       "      <td>250</td>\n",
       "      <td>250</td>\n",
       "      <td>cus_IF3JcGrw0aMpgv</td>\n",
       "      <td>US</td>\n",
       "      <td>0</td>\n",
       "      <td>2020-10</td>\n",
       "      <td>2020-10</td>\n",
       "    </tr>\n",
       "    <tr>\n",
       "      <th>1</th>\n",
       "      <td>2020-10-27 23:02:31+00:00</td>\n",
       "      <td>250</td>\n",
       "      <td>250</td>\n",
       "      <td>cus_IHaMqtFwUNAO09</td>\n",
       "      <td>US</td>\n",
       "      <td>0</td>\n",
       "      <td>2020-10</td>\n",
       "      <td>2020-10</td>\n",
       "    </tr>\n",
       "    <tr>\n",
       "      <th>3</th>\n",
       "      <td>2020-11-17 19:51:25+00:00</td>\n",
       "      <td>750</td>\n",
       "      <td>0</td>\n",
       "      <td>cus_HbD8AagiDUOBoG</td>\n",
       "      <td>US</td>\n",
       "      <td>750</td>\n",
       "      <td>2020-11</td>\n",
       "      <td>2020-07</td>\n",
       "    </tr>\n",
       "    <tr>\n",
       "      <th>6</th>\n",
       "      <td>2020-11-17 22:18:09+00:00</td>\n",
       "      <td>250</td>\n",
       "      <td>0</td>\n",
       "      <td>cus_FH0Csodtt6j0ff</td>\n",
       "      <td>US</td>\n",
       "      <td>250</td>\n",
       "      <td>2020-11</td>\n",
       "      <td>2020-01</td>\n",
       "    </tr>\n",
       "    <tr>\n",
       "      <th>7</th>\n",
       "      <td>2020-11-17 23:05:19+00:00</td>\n",
       "      <td>1000</td>\n",
       "      <td>0</td>\n",
       "      <td>cus_IBtiU1rmRe2oKe</td>\n",
       "      <td>US</td>\n",
       "      <td>1000</td>\n",
       "      <td>2020-11</td>\n",
       "      <td>2020-10</td>\n",
       "    </tr>\n",
       "    <tr>\n",
       "      <th>8</th>\n",
       "      <td>2020-11-17 23:06:20+00:00</td>\n",
       "      <td>250</td>\n",
       "      <td>0</td>\n",
       "      <td>cus_IFGe6elQiZ5nmG</td>\n",
       "      <td>US</td>\n",
       "      <td>250</td>\n",
       "      <td>2020-11</td>\n",
       "      <td>2020-10</td>\n",
       "    </tr>\n",
       "    <tr>\n",
       "      <th>12</th>\n",
       "      <td>2020-11-17 23:16:10+00:00</td>\n",
       "      <td>250</td>\n",
       "      <td>0</td>\n",
       "      <td>cus_HU7mjthwgY1WdN</td>\n",
       "      <td>US</td>\n",
       "      <td>250</td>\n",
       "      <td>2020-11</td>\n",
       "      <td>2020-06</td>\n",
       "    </tr>\n",
       "    <tr>\n",
       "      <th>13</th>\n",
       "      <td>2020-11-17 23:24:46+00:00</td>\n",
       "      <td>250</td>\n",
       "      <td>0</td>\n",
       "      <td>cus_HfMhqQsQ66d74e</td>\n",
       "      <td>US</td>\n",
       "      <td>250</td>\n",
       "      <td>2020-11</td>\n",
       "      <td>2020-07</td>\n",
       "    </tr>\n",
       "    <tr>\n",
       "      <th>14</th>\n",
       "      <td>2020-11-18 00:52:48+00:00</td>\n",
       "      <td>250</td>\n",
       "      <td>0</td>\n",
       "      <td>cus_Hr07hsOdspdDjP</td>\n",
       "      <td>US</td>\n",
       "      <td>250</td>\n",
       "      <td>2020-11</td>\n",
       "      <td>2020-08</td>\n",
       "    </tr>\n",
       "    <tr>\n",
       "      <th>15</th>\n",
       "      <td>2020-11-18 01:06:00+00:00</td>\n",
       "      <td>140</td>\n",
       "      <td>0</td>\n",
       "      <td>cus_HeVdRRDdeT0Reo</td>\n",
       "      <td>US</td>\n",
       "      <td>140</td>\n",
       "      <td>2020-11</td>\n",
       "      <td>2020-07</td>\n",
       "    </tr>\n",
       "  </tbody>\n",
       "</table>\n",
       "</div>"
      ],
      "text/plain": [
       "                     created  paid  refunded            customer  \\\n",
       "0  2020-10-21 04:45:40+00:00   250       250  cus_IF3JcGrw0aMpgv   \n",
       "1  2020-10-27 23:02:31+00:00   250       250  cus_IHaMqtFwUNAO09   \n",
       "3  2020-11-17 19:51:25+00:00   750         0  cus_HbD8AagiDUOBoG   \n",
       "6  2020-11-17 22:18:09+00:00   250         0  cus_FH0Csodtt6j0ff   \n",
       "7  2020-11-17 23:05:19+00:00  1000         0  cus_IBtiU1rmRe2oKe   \n",
       "8  2020-11-17 23:06:20+00:00   250         0  cus_IFGe6elQiZ5nmG   \n",
       "12 2020-11-17 23:16:10+00:00   250         0  cus_HU7mjthwgY1WdN   \n",
       "13 2020-11-17 23:24:46+00:00   250         0  cus_HfMhqQsQ66d74e   \n",
       "14 2020-11-18 00:52:48+00:00   250         0  cus_Hr07hsOdspdDjP   \n",
       "15 2020-11-18 01:06:00+00:00   140         0  cus_HeVdRRDdeT0Reo   \n",
       "\n",
       "   card__country  net_revenue order_month   cohort  \n",
       "0             US            0     2020-10  2020-10  \n",
       "1             US            0     2020-10  2020-10  \n",
       "3             US          750     2020-11  2020-07  \n",
       "6             US          250     2020-11  2020-01  \n",
       "7             US         1000     2020-11  2020-10  \n",
       "8             US          250     2020-11  2020-10  \n",
       "12            US          250     2020-11  2020-06  \n",
       "13            US          250     2020-11  2020-07  \n",
       "14            US          250     2020-11  2020-08  \n",
       "15            US          140     2020-11  2020-07  "
      ]
     },
     "execution_count": 33,
     "metadata": {},
     "output_type": "execute_result"
    }
   ],
   "source": [
    "# adding order month and cohort column in dataframe\n",
    "df_us=cohort_period(df_us)\n",
    "df_us.head(10)"
   ]
  },
  {
   "cell_type": "code",
   "execution_count": 34,
   "id": "828a3a62",
   "metadata": {},
   "outputs": [
    {
     "data": {
      "text/html": [
       "<div>\n",
       "<style scoped>\n",
       "    .dataframe tbody tr th:only-of-type {\n",
       "        vertical-align: middle;\n",
       "    }\n",
       "\n",
       "    .dataframe tbody tr th {\n",
       "        vertical-align: top;\n",
       "    }\n",
       "\n",
       "    .dataframe thead th {\n",
       "        text-align: right;\n",
       "    }\n",
       "</style>\n",
       "<table border=\"1\" class=\"dataframe\">\n",
       "  <thead>\n",
       "    <tr style=\"text-align: right;\">\n",
       "      <th></th>\n",
       "      <th>cohort</th>\n",
       "      <th>order_month</th>\n",
       "      <th>n_customers</th>\n",
       "      <th>revenue</th>\n",
       "      <th>clr</th>\n",
       "      <th>period_number</th>\n",
       "    </tr>\n",
       "  </thead>\n",
       "  <tbody>\n",
       "    <tr>\n",
       "      <th>0</th>\n",
       "      <td>2020-01</td>\n",
       "      <td>2020-01</td>\n",
       "      <td>30</td>\n",
       "      <td>9147</td>\n",
       "      <td>304.900000</td>\n",
       "      <td>0</td>\n",
       "    </tr>\n",
       "    <tr>\n",
       "      <th>1</th>\n",
       "      <td>2020-01</td>\n",
       "      <td>2020-02</td>\n",
       "      <td>29</td>\n",
       "      <td>10078</td>\n",
       "      <td>662.931034</td>\n",
       "      <td>1</td>\n",
       "    </tr>\n",
       "    <tr>\n",
       "      <th>2</th>\n",
       "      <td>2020-01</td>\n",
       "      <td>2020-03</td>\n",
       "      <td>29</td>\n",
       "      <td>12216</td>\n",
       "      <td>1084.172414</td>\n",
       "      <td>2</td>\n",
       "    </tr>\n",
       "    <tr>\n",
       "      <th>3</th>\n",
       "      <td>2020-01</td>\n",
       "      <td>2020-04</td>\n",
       "      <td>28</td>\n",
       "      <td>12424</td>\n",
       "      <td>1566.607143</td>\n",
       "      <td>3</td>\n",
       "    </tr>\n",
       "    <tr>\n",
       "      <th>4</th>\n",
       "      <td>2020-01</td>\n",
       "      <td>2020-05</td>\n",
       "      <td>25</td>\n",
       "      <td>7713</td>\n",
       "      <td>2063.120000</td>\n",
       "      <td>4</td>\n",
       "    </tr>\n",
       "    <tr>\n",
       "      <th>5</th>\n",
       "      <td>2020-01</td>\n",
       "      <td>2020-06</td>\n",
       "      <td>25</td>\n",
       "      <td>8285</td>\n",
       "      <td>2394.520000</td>\n",
       "      <td>5</td>\n",
       "    </tr>\n",
       "    <tr>\n",
       "      <th>6</th>\n",
       "      <td>2020-01</td>\n",
       "      <td>2020-07</td>\n",
       "      <td>26</td>\n",
       "      <td>8194</td>\n",
       "      <td>2617.576923</td>\n",
       "      <td>6</td>\n",
       "    </tr>\n",
       "    <tr>\n",
       "      <th>7</th>\n",
       "      <td>2020-01</td>\n",
       "      <td>2020-08</td>\n",
       "      <td>28</td>\n",
       "      <td>9440</td>\n",
       "      <td>2767.750000</td>\n",
       "      <td>7</td>\n",
       "    </tr>\n",
       "    <tr>\n",
       "      <th>8</th>\n",
       "      <td>2020-01</td>\n",
       "      <td>2020-09</td>\n",
       "      <td>27</td>\n",
       "      <td>7361</td>\n",
       "      <td>3142.888889</td>\n",
       "      <td>8</td>\n",
       "    </tr>\n",
       "    <tr>\n",
       "      <th>9</th>\n",
       "      <td>2020-01</td>\n",
       "      <td>2020-10</td>\n",
       "      <td>28</td>\n",
       "      <td>9326</td>\n",
       "      <td>3363.714286</td>\n",
       "      <td>9</td>\n",
       "    </tr>\n",
       "    <tr>\n",
       "      <th>10</th>\n",
       "      <td>2020-01</td>\n",
       "      <td>2020-11</td>\n",
       "      <td>30</td>\n",
       "      <td>9980</td>\n",
       "      <td>3472.133333</td>\n",
       "      <td>10</td>\n",
       "    </tr>\n",
       "    <tr>\n",
       "      <th>11</th>\n",
       "      <td>2020-01</td>\n",
       "      <td>2020-12</td>\n",
       "      <td>30</td>\n",
       "      <td>10892</td>\n",
       "      <td>3835.200000</td>\n",
       "      <td>11</td>\n",
       "    </tr>\n",
       "    <tr>\n",
       "      <th>12</th>\n",
       "      <td>2020-02</td>\n",
       "      <td>2020-02</td>\n",
       "      <td>2</td>\n",
       "      <td>862</td>\n",
       "      <td>431.000000</td>\n",
       "      <td>0</td>\n",
       "    </tr>\n",
       "    <tr>\n",
       "      <th>13</th>\n",
       "      <td>2020-02</td>\n",
       "      <td>2020-03</td>\n",
       "      <td>2</td>\n",
       "      <td>500</td>\n",
       "      <td>681.000000</td>\n",
       "      <td>1</td>\n",
       "    </tr>\n",
       "    <tr>\n",
       "      <th>14</th>\n",
       "      <td>2020-02</td>\n",
       "      <td>2020-04</td>\n",
       "      <td>2</td>\n",
       "      <td>500</td>\n",
       "      <td>931.000000</td>\n",
       "      <td>2</td>\n",
       "    </tr>\n",
       "  </tbody>\n",
       "</table>\n",
       "</div>"
      ],
      "text/plain": [
       "     cohort order_month  n_customers  revenue          clr  period_number\n",
       "0   2020-01     2020-01           30     9147   304.900000              0\n",
       "1   2020-01     2020-02           29    10078   662.931034              1\n",
       "2   2020-01     2020-03           29    12216  1084.172414              2\n",
       "3   2020-01     2020-04           28    12424  1566.607143              3\n",
       "4   2020-01     2020-05           25     7713  2063.120000              4\n",
       "5   2020-01     2020-06           25     8285  2394.520000              5\n",
       "6   2020-01     2020-07           26     8194  2617.576923              6\n",
       "7   2020-01     2020-08           28     9440  2767.750000              7\n",
       "8   2020-01     2020-09           27     7361  3142.888889              8\n",
       "9   2020-01     2020-10           28     9326  3363.714286              9\n",
       "10  2020-01     2020-11           30     9980  3472.133333             10\n",
       "11  2020-01     2020-12           30    10892  3835.200000             11\n",
       "12  2020-02     2020-02            2      862   431.000000              0\n",
       "13  2020-02     2020-03            2      500   681.000000              1\n",
       "14  2020-02     2020-04            2      500   931.000000              2"
      ]
     },
     "execution_count": 34,
     "metadata": {},
     "output_type": "execute_result"
    }
   ],
   "source": [
    "# creating four columns which captures no. of customer in cohort, revenue generated by cohort, \n",
    "# cumulative revenue per customer, and period which signifies the subsequent months for that cohort.\n",
    "df_us_analysis = cohort_analysis(df_us)\n",
    "df_us_analysis.head(15)"
   ]
  },
  {
   "cell_type": "markdown",
   "id": "fa5f4297",
   "metadata": {},
   "source": [
    "### US Customer Retention Rate"
   ]
  },
  {
   "cell_type": "code",
   "execution_count": 35,
   "id": "7b64d506",
   "metadata": {},
   "outputs": [
    {
     "data": {
      "image/png": "[encoded data removed]",
      "text/plain": [
       "<Figure size 864x576 with 3 Axes>"
      ]
     },
     "metadata": {
      "needs_background": "light"
     },
     "output_type": "display_data"
    }
   ],
   "source": [
    "cohort_chart(df_us_analysis,'n_customers','US_Customer_Retention_Rate')"
   ]
  },
  {
   "cell_type": "markdown",
   "id": "ece5e85d",
   "metadata": {},
   "source": [
    "We can see that customer retention was low for 8 of the 12 cohorts last month (2020-12). Check out what happened in the United States during the month of December. It would also be interesting to look at the cohorts from the fourth and fifth months and figure out why retention was low."
   ]
  },
  {
   "cell_type": "markdown",
   "id": "d2d05bd6",
   "metadata": {},
   "source": [
    "### US Net  Revenue Retention"
   ]
  },
  {
   "cell_type": "code",
   "execution_count": 36,
   "id": "ad465f59",
   "metadata": {},
   "outputs": [
    {
     "data": {
      "image/png": "[encoded data removed]",
      "text/plain": [
       "<Figure size 864x576 with 2 Axes>"
      ]
     },
     "metadata": {
      "needs_background": "light"
     },
     "output_type": "display_data"
    }
   ],
   "source": [
    "cohort_chart(df_us_analysis,'revenue','US_Net_Revenue_Retention')"
   ]
  },
  {
   "cell_type": "markdown",
   "id": "4b3bedf9",
   "metadata": {},
   "source": [
    "Something unusual happened to the fourth-month cohort in the second period. It would be beneficial to comprehend the sudden increase in revenue from that cohort. One possible explanation is a subscription upgrade. We also see higher revenue retention in other cohorts, which could be because the company offered them a deal that resulted in that."
   ]
  },
  {
   "cell_type": "markdown",
   "id": "573bef13",
   "metadata": {},
   "source": [
    "### US Customer Lifetime Revenue"
   ]
  },
  {
   "cell_type": "code",
   "execution_count": 37,
   "id": "e6eae82d",
   "metadata": {},
   "outputs": [
    {
     "data": {
      "image/png": "[encoded data removed]",
      "text/plain": [
       "<Figure size 864x576 with 2 Axes>"
      ]
     },
     "metadata": {
      "needs_background": "light"
     },
     "output_type": "display_data"
    }
   ],
   "source": [
    "cohort_chart(df_us_analysis,'clr','US_Customer_Lifetime_Revenue')"
   ]
  },
  {
   "cell_type": "markdown",
   "id": "af26720b",
   "metadata": {},
   "source": [
    "According to this graph, the company makes around 4000 from a customer by the end of the year. The company made a lot of money in the first eight months for the cohort that joined in the fourth month. It would be fascinating to learn more about the behavior of that specific cohort."
   ]
  },
  {
   "cell_type": "markdown",
   "id": "0aca0cb2",
   "metadata": {},
   "source": [
    "## Cohort Analysis for 'AU'"
   ]
  },
  {
   "cell_type": "code",
   "execution_count": 38,
   "id": "853345e9",
   "metadata": {},
   "outputs": [
    {
     "data": {
      "text/html": [
       "<div>\n",
       "<style scoped>\n",
       "    .dataframe tbody tr th:only-of-type {\n",
       "        vertical-align: middle;\n",
       "    }\n",
       "\n",
       "    .dataframe tbody tr th {\n",
       "        vertical-align: top;\n",
       "    }\n",
       "\n",
       "    .dataframe thead th {\n",
       "        text-align: right;\n",
       "    }\n",
       "</style>\n",
       "<table border=\"1\" class=\"dataframe\">\n",
       "  <thead>\n",
       "    <tr style=\"text-align: right;\">\n",
       "      <th></th>\n",
       "      <th>created</th>\n",
       "      <th>paid</th>\n",
       "      <th>refunded</th>\n",
       "      <th>customer</th>\n",
       "      <th>card__country</th>\n",
       "      <th>net_revenue</th>\n",
       "    </tr>\n",
       "  </thead>\n",
       "  <tbody>\n",
       "    <tr>\n",
       "      <th>9</th>\n",
       "      <td>2020-11-17 23:12:04+00:00</td>\n",
       "      <td>250</td>\n",
       "      <td>0</td>\n",
       "      <td>cus_IPSFRhCvHRLSEz</td>\n",
       "      <td>AU</td>\n",
       "      <td>250</td>\n",
       "    </tr>\n",
       "    <tr>\n",
       "      <th>10</th>\n",
       "      <td>2020-12-04 06:29:28+00:00</td>\n",
       "      <td>31</td>\n",
       "      <td>0</td>\n",
       "      <td>cus_Hu0bpPwajQ2UyQ</td>\n",
       "      <td>AU</td>\n",
       "      <td>31</td>\n",
       "    </tr>\n",
       "    <tr>\n",
       "      <th>20</th>\n",
       "      <td>2020-11-18 07:23:37+00:00</td>\n",
       "      <td>250</td>\n",
       "      <td>0</td>\n",
       "      <td>cus_IPaBLJmIuD2eN8</td>\n",
       "      <td>AU</td>\n",
       "      <td>250</td>\n",
       "    </tr>\n",
       "    <tr>\n",
       "      <th>21</th>\n",
       "      <td>2020-11-18 07:49:22+00:00</td>\n",
       "      <td>250</td>\n",
       "      <td>0</td>\n",
       "      <td>cus_I2iqx77roDhsvr</td>\n",
       "      <td>AU</td>\n",
       "      <td>250</td>\n",
       "    </tr>\n",
       "    <tr>\n",
       "      <th>33</th>\n",
       "      <td>2020-11-27 00:18:13+00:00</td>\n",
       "      <td>250</td>\n",
       "      <td>0</td>\n",
       "      <td>cus_HikZLaoalk2E2U</td>\n",
       "      <td>AU</td>\n",
       "      <td>250</td>\n",
       "    </tr>\n",
       "  </tbody>\n",
       "</table>\n",
       "</div>"
      ],
      "text/plain": [
       "                     created  paid  refunded            customer  \\\n",
       "9  2020-11-17 23:12:04+00:00   250         0  cus_IPSFRhCvHRLSEz   \n",
       "10 2020-12-04 06:29:28+00:00    31         0  cus_Hu0bpPwajQ2UyQ   \n",
       "20 2020-11-18 07:23:37+00:00   250         0  cus_IPaBLJmIuD2eN8   \n",
       "21 2020-11-18 07:49:22+00:00   250         0  cus_I2iqx77roDhsvr   \n",
       "33 2020-11-27 00:18:13+00:00   250         0  cus_HikZLaoalk2E2U   \n",
       "\n",
       "   card__country  net_revenue  \n",
       "9             AU          250  \n",
       "10            AU           31  \n",
       "20            AU          250  \n",
       "21            AU          250  \n",
       "33            AU          250  "
      ]
     },
     "execution_count": 38,
     "metadata": {},
     "output_type": "execute_result"
    }
   ],
   "source": [
    "df_au = df[df['card__country']==\"AU\"]\n",
    "df_au.head()"
   ]
  },
  {
   "cell_type": "code",
   "execution_count": 39,
   "id": "23a42a8c",
   "metadata": {},
   "outputs": [
    {
     "data": {
      "text/plain": [
       "(361, 6)"
      ]
     },
     "execution_count": 39,
     "metadata": {},
     "output_type": "execute_result"
    }
   ],
   "source": [
    "df_au.shape"
   ]
  },
  {
   "cell_type": "code",
   "execution_count": 40,
   "id": "1a7573ba",
   "metadata": {},
   "outputs": [
    {
     "data": {
      "text/html": [
       "<div>\n",
       "<style scoped>\n",
       "    .dataframe tbody tr th:only-of-type {\n",
       "        vertical-align: middle;\n",
       "    }\n",
       "\n",
       "    .dataframe tbody tr th {\n",
       "        vertical-align: top;\n",
       "    }\n",
       "\n",
       "    .dataframe thead th {\n",
       "        text-align: right;\n",
       "    }\n",
       "</style>\n",
       "<table border=\"1\" class=\"dataframe\">\n",
       "  <thead>\n",
       "    <tr style=\"text-align: right;\">\n",
       "      <th></th>\n",
       "      <th>created</th>\n",
       "      <th>paid</th>\n",
       "      <th>refunded</th>\n",
       "      <th>customer</th>\n",
       "      <th>card__country</th>\n",
       "      <th>net_revenue</th>\n",
       "      <th>order_month</th>\n",
       "      <th>cohort</th>\n",
       "    </tr>\n",
       "  </thead>\n",
       "  <tbody>\n",
       "    <tr>\n",
       "      <th>9</th>\n",
       "      <td>2020-11-17 23:12:04+00:00</td>\n",
       "      <td>250</td>\n",
       "      <td>0</td>\n",
       "      <td>cus_IPSFRhCvHRLSEz</td>\n",
       "      <td>AU</td>\n",
       "      <td>250</td>\n",
       "      <td>2020-11</td>\n",
       "      <td>2020-11</td>\n",
       "    </tr>\n",
       "    <tr>\n",
       "      <th>10</th>\n",
       "      <td>2020-12-04 06:29:28+00:00</td>\n",
       "      <td>31</td>\n",
       "      <td>0</td>\n",
       "      <td>cus_Hu0bpPwajQ2UyQ</td>\n",
       "      <td>AU</td>\n",
       "      <td>31</td>\n",
       "      <td>2020-12</td>\n",
       "      <td>2020-08</td>\n",
       "    </tr>\n",
       "    <tr>\n",
       "      <th>20</th>\n",
       "      <td>2020-11-18 07:23:37+00:00</td>\n",
       "      <td>250</td>\n",
       "      <td>0</td>\n",
       "      <td>cus_IPaBLJmIuD2eN8</td>\n",
       "      <td>AU</td>\n",
       "      <td>250</td>\n",
       "      <td>2020-11</td>\n",
       "      <td>2020-11</td>\n",
       "    </tr>\n",
       "    <tr>\n",
       "      <th>21</th>\n",
       "      <td>2020-11-18 07:49:22+00:00</td>\n",
       "      <td>250</td>\n",
       "      <td>0</td>\n",
       "      <td>cus_I2iqx77roDhsvr</td>\n",
       "      <td>AU</td>\n",
       "      <td>250</td>\n",
       "      <td>2020-11</td>\n",
       "      <td>2020-09</td>\n",
       "    </tr>\n",
       "    <tr>\n",
       "      <th>33</th>\n",
       "      <td>2020-11-27 00:18:13+00:00</td>\n",
       "      <td>250</td>\n",
       "      <td>0</td>\n",
       "      <td>cus_HikZLaoalk2E2U</td>\n",
       "      <td>AU</td>\n",
       "      <td>250</td>\n",
       "      <td>2020-11</td>\n",
       "      <td>2020-07</td>\n",
       "    </tr>\n",
       "    <tr>\n",
       "      <th>35</th>\n",
       "      <td>2020-11-27 05:42:05+00:00</td>\n",
       "      <td>250</td>\n",
       "      <td>0</td>\n",
       "      <td>cus_ISvZAxfOFWGxJf</td>\n",
       "      <td>AU</td>\n",
       "      <td>250</td>\n",
       "      <td>2020-11</td>\n",
       "      <td>2020-11</td>\n",
       "    </tr>\n",
       "    <tr>\n",
       "      <th>42</th>\n",
       "      <td>2020-11-08 08:04:01+00:00</td>\n",
       "      <td>250</td>\n",
       "      <td>250</td>\n",
       "      <td>cus_ILqZH5Ymzgo1R5</td>\n",
       "      <td>AU</td>\n",
       "      <td>0</td>\n",
       "      <td>2020-11</td>\n",
       "      <td>2020-11</td>\n",
       "    </tr>\n",
       "    <tr>\n",
       "      <th>51</th>\n",
       "      <td>2020-11-18 17:24:16+00:00</td>\n",
       "      <td>250</td>\n",
       "      <td>0</td>\n",
       "      <td>cus_HdjFFG7nHN1yWU</td>\n",
       "      <td>AU</td>\n",
       "      <td>250</td>\n",
       "      <td>2020-11</td>\n",
       "      <td>2020-07</td>\n",
       "    </tr>\n",
       "    <tr>\n",
       "      <th>65</th>\n",
       "      <td>2020-11-19 00:26:34+00:00</td>\n",
       "      <td>15</td>\n",
       "      <td>0</td>\n",
       "      <td>cus_HjtqV9i6BzW8Nk</td>\n",
       "      <td>AU</td>\n",
       "      <td>15</td>\n",
       "      <td>2020-11</td>\n",
       "      <td>2020-07</td>\n",
       "    </tr>\n",
       "    <tr>\n",
       "      <th>108</th>\n",
       "      <td>2020-11-20 01:42:31+00:00</td>\n",
       "      <td>250</td>\n",
       "      <td>0</td>\n",
       "      <td>cus_HrlNzFMusI193j</td>\n",
       "      <td>AU</td>\n",
       "      <td>250</td>\n",
       "      <td>2020-11</td>\n",
       "      <td>2020-08</td>\n",
       "    </tr>\n",
       "  </tbody>\n",
       "</table>\n",
       "</div>"
      ],
      "text/plain": [
       "                      created  paid  refunded            customer  \\\n",
       "9   2020-11-17 23:12:04+00:00   250         0  cus_IPSFRhCvHRLSEz   \n",
       "10  2020-12-04 06:29:28+00:00    31         0  cus_Hu0bpPwajQ2UyQ   \n",
       "20  2020-11-18 07:23:37+00:00   250         0  cus_IPaBLJmIuD2eN8   \n",
       "21  2020-11-18 07:49:22+00:00   250         0  cus_I2iqx77roDhsvr   \n",
       "33  2020-11-27 00:18:13+00:00   250         0  cus_HikZLaoalk2E2U   \n",
       "35  2020-11-27 05:42:05+00:00   250         0  cus_ISvZAxfOFWGxJf   \n",
       "42  2020-11-08 08:04:01+00:00   250       250  cus_ILqZH5Ymzgo1R5   \n",
       "51  2020-11-18 17:24:16+00:00   250         0  cus_HdjFFG7nHN1yWU   \n",
       "65  2020-11-19 00:26:34+00:00    15         0  cus_HjtqV9i6BzW8Nk   \n",
       "108 2020-11-20 01:42:31+00:00   250         0  cus_HrlNzFMusI193j   \n",
       "\n",
       "    card__country  net_revenue order_month   cohort  \n",
       "9              AU          250     2020-11  2020-11  \n",
       "10             AU           31     2020-12  2020-08  \n",
       "20             AU          250     2020-11  2020-11  \n",
       "21             AU          250     2020-11  2020-09  \n",
       "33             AU          250     2020-11  2020-07  \n",
       "35             AU          250     2020-11  2020-11  \n",
       "42             AU            0     2020-11  2020-11  \n",
       "51             AU          250     2020-11  2020-07  \n",
       "65             AU           15     2020-11  2020-07  \n",
       "108            AU          250     2020-11  2020-08  "
      ]
     },
     "execution_count": 40,
     "metadata": {},
     "output_type": "execute_result"
    }
   ],
   "source": [
    "df_au=cohort_period(df_au)\n",
    "df_au.head(10)"
   ]
  },
  {
   "cell_type": "code",
   "execution_count": 41,
   "id": "b8762451",
   "metadata": {},
   "outputs": [
    {
     "data": {
      "text/html": [
       "<div>\n",
       "<style scoped>\n",
       "    .dataframe tbody tr th:only-of-type {\n",
       "        vertical-align: middle;\n",
       "    }\n",
       "\n",
       "    .dataframe tbody tr th {\n",
       "        vertical-align: top;\n",
       "    }\n",
       "\n",
       "    .dataframe thead th {\n",
       "        text-align: right;\n",
       "    }\n",
       "</style>\n",
       "<table border=\"1\" class=\"dataframe\">\n",
       "  <thead>\n",
       "    <tr style=\"text-align: right;\">\n",
       "      <th></th>\n",
       "      <th>cohort</th>\n",
       "      <th>order_month</th>\n",
       "      <th>n_customers</th>\n",
       "      <th>revenue</th>\n",
       "      <th>clr</th>\n",
       "      <th>period_number</th>\n",
       "    </tr>\n",
       "  </thead>\n",
       "  <tbody>\n",
       "    <tr>\n",
       "      <th>0</th>\n",
       "      <td>2020-01</td>\n",
       "      <td>2020-01</td>\n",
       "      <td>2</td>\n",
       "      <td>500</td>\n",
       "      <td>250.0</td>\n",
       "      <td>0</td>\n",
       "    </tr>\n",
       "    <tr>\n",
       "      <th>1</th>\n",
       "      <td>2020-01</td>\n",
       "      <td>2020-02</td>\n",
       "      <td>2</td>\n",
       "      <td>500</td>\n",
       "      <td>500.0</td>\n",
       "      <td>1</td>\n",
       "    </tr>\n",
       "    <tr>\n",
       "      <th>2</th>\n",
       "      <td>2020-01</td>\n",
       "      <td>2020-03</td>\n",
       "      <td>2</td>\n",
       "      <td>948</td>\n",
       "      <td>974.0</td>\n",
       "      <td>2</td>\n",
       "    </tr>\n",
       "    <tr>\n",
       "      <th>3</th>\n",
       "      <td>2020-01</td>\n",
       "      <td>2020-04</td>\n",
       "      <td>2</td>\n",
       "      <td>650</td>\n",
       "      <td>1299.0</td>\n",
       "      <td>3</td>\n",
       "    </tr>\n",
       "    <tr>\n",
       "      <th>4</th>\n",
       "      <td>2020-01</td>\n",
       "      <td>2020-05</td>\n",
       "      <td>2</td>\n",
       "      <td>500</td>\n",
       "      <td>1549.0</td>\n",
       "      <td>4</td>\n",
       "    </tr>\n",
       "    <tr>\n",
       "      <th>5</th>\n",
       "      <td>2020-01</td>\n",
       "      <td>2020-06</td>\n",
       "      <td>2</td>\n",
       "      <td>500</td>\n",
       "      <td>1799.0</td>\n",
       "      <td>5</td>\n",
       "    </tr>\n",
       "    <tr>\n",
       "      <th>6</th>\n",
       "      <td>2020-01</td>\n",
       "      <td>2020-07</td>\n",
       "      <td>2</td>\n",
       "      <td>500</td>\n",
       "      <td>2049.0</td>\n",
       "      <td>6</td>\n",
       "    </tr>\n",
       "    <tr>\n",
       "      <th>7</th>\n",
       "      <td>2020-01</td>\n",
       "      <td>2020-08</td>\n",
       "      <td>2</td>\n",
       "      <td>500</td>\n",
       "      <td>2299.0</td>\n",
       "      <td>7</td>\n",
       "    </tr>\n",
       "    <tr>\n",
       "      <th>8</th>\n",
       "      <td>2020-01</td>\n",
       "      <td>2020-09</td>\n",
       "      <td>2</td>\n",
       "      <td>750</td>\n",
       "      <td>2674.0</td>\n",
       "      <td>8</td>\n",
       "    </tr>\n",
       "    <tr>\n",
       "      <th>9</th>\n",
       "      <td>2020-01</td>\n",
       "      <td>2020-10</td>\n",
       "      <td>2</td>\n",
       "      <td>1375</td>\n",
       "      <td>3361.5</td>\n",
       "      <td>9</td>\n",
       "    </tr>\n",
       "    <tr>\n",
       "      <th>10</th>\n",
       "      <td>2020-01</td>\n",
       "      <td>2020-11</td>\n",
       "      <td>2</td>\n",
       "      <td>750</td>\n",
       "      <td>3736.5</td>\n",
       "      <td>10</td>\n",
       "    </tr>\n",
       "    <tr>\n",
       "      <th>11</th>\n",
       "      <td>2020-01</td>\n",
       "      <td>2020-12</td>\n",
       "      <td>2</td>\n",
       "      <td>503</td>\n",
       "      <td>3988.0</td>\n",
       "      <td>11</td>\n",
       "    </tr>\n",
       "    <tr>\n",
       "      <th>12</th>\n",
       "      <td>2020-02</td>\n",
       "      <td>2020-02</td>\n",
       "      <td>1</td>\n",
       "      <td>250</td>\n",
       "      <td>250.0</td>\n",
       "      <td>0</td>\n",
       "    </tr>\n",
       "    <tr>\n",
       "      <th>13</th>\n",
       "      <td>2020-02</td>\n",
       "      <td>2020-03</td>\n",
       "      <td>1</td>\n",
       "      <td>250</td>\n",
       "      <td>500.0</td>\n",
       "      <td>1</td>\n",
       "    </tr>\n",
       "    <tr>\n",
       "      <th>14</th>\n",
       "      <td>2020-02</td>\n",
       "      <td>2020-04</td>\n",
       "      <td>1</td>\n",
       "      <td>250</td>\n",
       "      <td>750.0</td>\n",
       "      <td>2</td>\n",
       "    </tr>\n",
       "  </tbody>\n",
       "</table>\n",
       "</div>"
      ],
      "text/plain": [
       "     cohort order_month  n_customers  revenue     clr  period_number\n",
       "0   2020-01     2020-01            2      500   250.0              0\n",
       "1   2020-01     2020-02            2      500   500.0              1\n",
       "2   2020-01     2020-03            2      948   974.0              2\n",
       "3   2020-01     2020-04            2      650  1299.0              3\n",
       "4   2020-01     2020-05            2      500  1549.0              4\n",
       "5   2020-01     2020-06            2      500  1799.0              5\n",
       "6   2020-01     2020-07            2      500  2049.0              6\n",
       "7   2020-01     2020-08            2      500  2299.0              7\n",
       "8   2020-01     2020-09            2      750  2674.0              8\n",
       "9   2020-01     2020-10            2     1375  3361.5              9\n",
       "10  2020-01     2020-11            2      750  3736.5             10\n",
       "11  2020-01     2020-12            2      503  3988.0             11\n",
       "12  2020-02     2020-02            1      250   250.0              0\n",
       "13  2020-02     2020-03            1      250   500.0              1\n",
       "14  2020-02     2020-04            1      250   750.0              2"
      ]
     },
     "execution_count": 41,
     "metadata": {},
     "output_type": "execute_result"
    }
   ],
   "source": [
    "df_au_analysis = cohort_analysis(df_au)\n",
    "df_au_analysis.head(15)"
   ]
  },
  {
   "cell_type": "markdown",
   "id": "81b0efa9",
   "metadata": {},
   "source": [
    "### AU Customer Retention Rate"
   ]
  },
  {
   "cell_type": "code",
   "execution_count": 42,
   "id": "9ef30c0a",
   "metadata": {},
   "outputs": [
    {
     "data": {
      "image/png": "[encoded data removed]",
      "text/plain": [
       "<Figure size 864x576 with 3 Axes>"
      ]
     },
     "metadata": {
      "needs_background": "light"
     },
     "output_type": "display_data"
    }
   ],
   "source": [
    "cohort_chart(df_au_analysis,'n_customers','AU_Customer_Retention_Rate')"
   ]
  },
  {
   "cell_type": "markdown",
   "id": "8ccdb0d2",
   "metadata": {},
   "source": [
    "There is no information available for the cohort from the third to the fifth month of 2020. Similarly to the United States, we see a decrease in retention rate for the most recent month, December. To get an idea, one should discuss it within the company."
   ]
  },
  {
   "cell_type": "markdown",
   "id": "fa7c2e67",
   "metadata": {},
   "source": [
    "### AU Net Revenue Retention"
   ]
  },
  {
   "cell_type": "code",
   "execution_count": 43,
   "id": "e47f2a7b",
   "metadata": {},
   "outputs": [
    {
     "data": {
      "image/png": "[encoded data removed]",
      "text/plain": [
       "<Figure size 864x576 with 2 Axes>"
      ]
     },
     "metadata": {
      "needs_background": "light"
     },
     "output_type": "display_data"
    }
   ],
   "source": [
    "cohort_chart(df_au_analysis,'revenue','AU_Net_Revenue_Retention')"
   ]
  },
  {
   "cell_type": "markdown",
   "id": "c661b631",
   "metadata": {},
   "source": [
    "There is no information available for the cohort between the third and fifth months of 2020. In December, we see an unusual increase in net revenue for the cohort from sixth month. This cohort may have upgraded their subscription. Perhaps an offer was made to cohorts from the sixth and seventh months at the end of the year."
   ]
  },
  {
   "cell_type": "markdown",
   "id": "bbf503ff",
   "metadata": {},
   "source": [
    "### AU Customer Lifetime Revenue"
   ]
  },
  {
   "cell_type": "code",
   "execution_count": 44,
   "id": "14093f7f",
   "metadata": {},
   "outputs": [
    {
     "data": {
      "image/png": "[encoded data removed]",
      "text/plain": [
       "<Figure size 864x576 with 2 Axes>"
      ]
     },
     "metadata": {
      "needs_background": "light"
     },
     "output_type": "display_data"
    }
   ],
   "source": [
    "cohort_chart(df_au_analysis,'clr','AU_Customer_Lifetime_Revenue')"
   ]
  },
  {
   "cell_type": "markdown",
   "id": "2b64614e",
   "metadata": {},
   "source": [
    "Similarly to the United States, we see that the company earns around $4000 per customer by the end of the first year."
   ]
  },
  {
   "cell_type": "markdown",
   "id": "a493f51d",
   "metadata": {},
   "source": [
    "## Cohort Analysis for 'CA'"
   ]
  },
  {
   "cell_type": "code",
   "execution_count": 45,
   "id": "5d057d97",
   "metadata": {},
   "outputs": [
    {
     "data": {
      "text/html": [
       "<div>\n",
       "<style scoped>\n",
       "    .dataframe tbody tr th:only-of-type {\n",
       "        vertical-align: middle;\n",
       "    }\n",
       "\n",
       "    .dataframe tbody tr th {\n",
       "        vertical-align: top;\n",
       "    }\n",
       "\n",
       "    .dataframe thead th {\n",
       "        text-align: right;\n",
       "    }\n",
       "</style>\n",
       "<table border=\"1\" class=\"dataframe\">\n",
       "  <thead>\n",
       "    <tr style=\"text-align: right;\">\n",
       "      <th></th>\n",
       "      <th>created</th>\n",
       "      <th>paid</th>\n",
       "      <th>refunded</th>\n",
       "      <th>customer</th>\n",
       "      <th>card__country</th>\n",
       "      <th>net_revenue</th>\n",
       "    </tr>\n",
       "  </thead>\n",
       "  <tbody>\n",
       "    <tr>\n",
       "      <th>27</th>\n",
       "      <td>2020-11-18 15:30:24+00:00</td>\n",
       "      <td>262</td>\n",
       "      <td>0</td>\n",
       "      <td>cus_I2qFY6yixgMXlE</td>\n",
       "      <td>CA</td>\n",
       "      <td>262</td>\n",
       "    </tr>\n",
       "    <tr>\n",
       "      <th>31</th>\n",
       "      <td>2020-11-17 16:48:07+00:00</td>\n",
       "      <td>525</td>\n",
       "      <td>0</td>\n",
       "      <td>cus_HuAMgby0dmaLvt</td>\n",
       "      <td>CA</td>\n",
       "      <td>525</td>\n",
       "    </tr>\n",
       "    <tr>\n",
       "      <th>41</th>\n",
       "      <td>2020-11-04 06:41:06+00:00</td>\n",
       "      <td>262</td>\n",
       "      <td>262</td>\n",
       "      <td>cus_IKKK06YE3UDPkS</td>\n",
       "      <td>CA</td>\n",
       "      <td>0</td>\n",
       "    </tr>\n",
       "    <tr>\n",
       "      <th>43</th>\n",
       "      <td>2020-11-08 16:20:37+00:00</td>\n",
       "      <td>262</td>\n",
       "      <td>262</td>\n",
       "      <td>cus_ILBTbvrwQSN69i</td>\n",
       "      <td>CA</td>\n",
       "      <td>0</td>\n",
       "    </tr>\n",
       "    <tr>\n",
       "      <th>47</th>\n",
       "      <td>2020-11-16 05:17:49+00:00</td>\n",
       "      <td>262</td>\n",
       "      <td>262</td>\n",
       "      <td>cus_IOnhjOcyUitT2L</td>\n",
       "      <td>CA</td>\n",
       "      <td>0</td>\n",
       "    </tr>\n",
       "  </tbody>\n",
       "</table>\n",
       "</div>"
      ],
      "text/plain": [
       "                     created  paid  refunded            customer  \\\n",
       "27 2020-11-18 15:30:24+00:00   262         0  cus_I2qFY6yixgMXlE   \n",
       "31 2020-11-17 16:48:07+00:00   525         0  cus_HuAMgby0dmaLvt   \n",
       "41 2020-11-04 06:41:06+00:00   262       262  cus_IKKK06YE3UDPkS   \n",
       "43 2020-11-08 16:20:37+00:00   262       262  cus_ILBTbvrwQSN69i   \n",
       "47 2020-11-16 05:17:49+00:00   262       262  cus_IOnhjOcyUitT2L   \n",
       "\n",
       "   card__country  net_revenue  \n",
       "27            CA          262  \n",
       "31            CA          525  \n",
       "41            CA            0  \n",
       "43            CA            0  \n",
       "47            CA            0  "
      ]
     },
     "execution_count": 45,
     "metadata": {},
     "output_type": "execute_result"
    }
   ],
   "source": [
    "df_ca = df[df['card__country']==\"CA\"]\n",
    "df_ca.head()"
   ]
  },
  {
   "cell_type": "code",
   "execution_count": 46,
   "id": "cd441112",
   "metadata": {},
   "outputs": [
    {
     "data": {
      "text/plain": [
       "(316, 6)"
      ]
     },
     "execution_count": 46,
     "metadata": {},
     "output_type": "execute_result"
    }
   ],
   "source": [
    "df_ca.shape"
   ]
  },
  {
   "cell_type": "code",
   "execution_count": 47,
   "id": "65441e0d",
   "metadata": {},
   "outputs": [
    {
     "data": {
      "text/html": [
       "<div>\n",
       "<style scoped>\n",
       "    .dataframe tbody tr th:only-of-type {\n",
       "        vertical-align: middle;\n",
       "    }\n",
       "\n",
       "    .dataframe tbody tr th {\n",
       "        vertical-align: top;\n",
       "    }\n",
       "\n",
       "    .dataframe thead th {\n",
       "        text-align: right;\n",
       "    }\n",
       "</style>\n",
       "<table border=\"1\" class=\"dataframe\">\n",
       "  <thead>\n",
       "    <tr style=\"text-align: right;\">\n",
       "      <th></th>\n",
       "      <th>created</th>\n",
       "      <th>paid</th>\n",
       "      <th>refunded</th>\n",
       "      <th>customer</th>\n",
       "      <th>card__country</th>\n",
       "      <th>net_revenue</th>\n",
       "      <th>order_month</th>\n",
       "      <th>cohort</th>\n",
       "    </tr>\n",
       "  </thead>\n",
       "  <tbody>\n",
       "    <tr>\n",
       "      <th>27</th>\n",
       "      <td>2020-11-18 15:30:24+00:00</td>\n",
       "      <td>262</td>\n",
       "      <td>0</td>\n",
       "      <td>cus_I2qFY6yixgMXlE</td>\n",
       "      <td>CA</td>\n",
       "      <td>262</td>\n",
       "      <td>2020-11</td>\n",
       "      <td>2020-09</td>\n",
       "    </tr>\n",
       "    <tr>\n",
       "      <th>31</th>\n",
       "      <td>2020-11-17 16:48:07+00:00</td>\n",
       "      <td>525</td>\n",
       "      <td>0</td>\n",
       "      <td>cus_HuAMgby0dmaLvt</td>\n",
       "      <td>CA</td>\n",
       "      <td>525</td>\n",
       "      <td>2020-11</td>\n",
       "      <td>2020-08</td>\n",
       "    </tr>\n",
       "    <tr>\n",
       "      <th>41</th>\n",
       "      <td>2020-11-04 06:41:06+00:00</td>\n",
       "      <td>262</td>\n",
       "      <td>262</td>\n",
       "      <td>cus_IKKK06YE3UDPkS</td>\n",
       "      <td>CA</td>\n",
       "      <td>0</td>\n",
       "      <td>2020-11</td>\n",
       "      <td>2020-11</td>\n",
       "    </tr>\n",
       "    <tr>\n",
       "      <th>43</th>\n",
       "      <td>2020-11-08 16:20:37+00:00</td>\n",
       "      <td>262</td>\n",
       "      <td>262</td>\n",
       "      <td>cus_ILBTbvrwQSN69i</td>\n",
       "      <td>CA</td>\n",
       "      <td>0</td>\n",
       "      <td>2020-11</td>\n",
       "      <td>2020-11</td>\n",
       "    </tr>\n",
       "    <tr>\n",
       "      <th>47</th>\n",
       "      <td>2020-11-16 05:17:49+00:00</td>\n",
       "      <td>262</td>\n",
       "      <td>262</td>\n",
       "      <td>cus_IOnhjOcyUitT2L</td>\n",
       "      <td>CA</td>\n",
       "      <td>0</td>\n",
       "      <td>2020-11</td>\n",
       "      <td>2020-11</td>\n",
       "    </tr>\n",
       "    <tr>\n",
       "      <th>57</th>\n",
       "      <td>2020-11-18 19:07:09+00:00</td>\n",
       "      <td>282</td>\n",
       "      <td>0</td>\n",
       "      <td>cus_IDg2koHX1P8FbT</td>\n",
       "      <td>CA</td>\n",
       "      <td>282</td>\n",
       "      <td>2020-11</td>\n",
       "      <td>2020-10</td>\n",
       "    </tr>\n",
       "    <tr>\n",
       "      <th>64</th>\n",
       "      <td>2020-11-19 00:09:37+00:00</td>\n",
       "      <td>282</td>\n",
       "      <td>0</td>\n",
       "      <td>cus_ICIPCJYSmvQKN8</td>\n",
       "      <td>CA</td>\n",
       "      <td>282</td>\n",
       "      <td>2020-11</td>\n",
       "      <td>2020-10</td>\n",
       "    </tr>\n",
       "    <tr>\n",
       "      <th>81</th>\n",
       "      <td>2020-11-19 15:34:30+00:00</td>\n",
       "      <td>282</td>\n",
       "      <td>282</td>\n",
       "      <td>cus_IQ5KW7IVPJG8dZ</td>\n",
       "      <td>CA</td>\n",
       "      <td>0</td>\n",
       "      <td>2020-11</td>\n",
       "      <td>2020-11</td>\n",
       "    </tr>\n",
       "    <tr>\n",
       "      <th>85</th>\n",
       "      <td>2020-11-19 16:56:45+00:00</td>\n",
       "      <td>262</td>\n",
       "      <td>0</td>\n",
       "      <td>cus_IQ6e9SlXJBq2ab</td>\n",
       "      <td>CA</td>\n",
       "      <td>262</td>\n",
       "      <td>2020-11</td>\n",
       "      <td>2020-11</td>\n",
       "    </tr>\n",
       "    <tr>\n",
       "      <th>86</th>\n",
       "      <td>2020-11-19 16:58:07+00:00</td>\n",
       "      <td>262</td>\n",
       "      <td>0</td>\n",
       "      <td>cus_IETgoDzl2sh6Rq</td>\n",
       "      <td>CA</td>\n",
       "      <td>262</td>\n",
       "      <td>2020-11</td>\n",
       "      <td>2020-10</td>\n",
       "    </tr>\n",
       "  </tbody>\n",
       "</table>\n",
       "</div>"
      ],
      "text/plain": [
       "                     created  paid  refunded            customer  \\\n",
       "27 2020-11-18 15:30:24+00:00   262         0  cus_I2qFY6yixgMXlE   \n",
       "31 2020-11-17 16:48:07+00:00   525         0  cus_HuAMgby0dmaLvt   \n",
       "41 2020-11-04 06:41:06+00:00   262       262  cus_IKKK06YE3UDPkS   \n",
       "43 2020-11-08 16:20:37+00:00   262       262  cus_ILBTbvrwQSN69i   \n",
       "47 2020-11-16 05:17:49+00:00   262       262  cus_IOnhjOcyUitT2L   \n",
       "57 2020-11-18 19:07:09+00:00   282         0  cus_IDg2koHX1P8FbT   \n",
       "64 2020-11-19 00:09:37+00:00   282         0  cus_ICIPCJYSmvQKN8   \n",
       "81 2020-11-19 15:34:30+00:00   282       282  cus_IQ5KW7IVPJG8dZ   \n",
       "85 2020-11-19 16:56:45+00:00   262         0  cus_IQ6e9SlXJBq2ab   \n",
       "86 2020-11-19 16:58:07+00:00   262         0  cus_IETgoDzl2sh6Rq   \n",
       "\n",
       "   card__country  net_revenue order_month   cohort  \n",
       "27            CA          262     2020-11  2020-09  \n",
       "31            CA          525     2020-11  2020-08  \n",
       "41            CA            0     2020-11  2020-11  \n",
       "43            CA            0     2020-11  2020-11  \n",
       "47            CA            0     2020-11  2020-11  \n",
       "57            CA          282     2020-11  2020-10  \n",
       "64            CA          282     2020-11  2020-10  \n",
       "81            CA            0     2020-11  2020-11  \n",
       "85            CA          262     2020-11  2020-11  \n",
       "86            CA          262     2020-11  2020-10  "
      ]
     },
     "execution_count": 47,
     "metadata": {},
     "output_type": "execute_result"
    }
   ],
   "source": [
    "df_ca=cohort_period(df_ca)\n",
    "df_ca.head(10)"
   ]
  },
  {
   "cell_type": "code",
   "execution_count": 48,
   "id": "d46ceaf0",
   "metadata": {},
   "outputs": [
    {
     "data": {
      "text/html": [
       "<div>\n",
       "<style scoped>\n",
       "    .dataframe tbody tr th:only-of-type {\n",
       "        vertical-align: middle;\n",
       "    }\n",
       "\n",
       "    .dataframe tbody tr th {\n",
       "        vertical-align: top;\n",
       "    }\n",
       "\n",
       "    .dataframe thead th {\n",
       "        text-align: right;\n",
       "    }\n",
       "</style>\n",
       "<table border=\"1\" class=\"dataframe\">\n",
       "  <thead>\n",
       "    <tr style=\"text-align: right;\">\n",
       "      <th></th>\n",
       "      <th>cohort</th>\n",
       "      <th>order_month</th>\n",
       "      <th>n_customers</th>\n",
       "      <th>revenue</th>\n",
       "      <th>clr</th>\n",
       "      <th>period_number</th>\n",
       "    </tr>\n",
       "  </thead>\n",
       "  <tbody>\n",
       "    <tr>\n",
       "      <th>0</th>\n",
       "      <td>2020-01</td>\n",
       "      <td>2020-01</td>\n",
       "      <td>3</td>\n",
       "      <td>794</td>\n",
       "      <td>264.666667</td>\n",
       "      <td>0</td>\n",
       "    </tr>\n",
       "    <tr>\n",
       "      <th>1</th>\n",
       "      <td>2020-01</td>\n",
       "      <td>2020-02</td>\n",
       "      <td>3</td>\n",
       "      <td>794</td>\n",
       "      <td>529.333333</td>\n",
       "      <td>1</td>\n",
       "    </tr>\n",
       "    <tr>\n",
       "      <th>2</th>\n",
       "      <td>2020-01</td>\n",
       "      <td>2020-03</td>\n",
       "      <td>3</td>\n",
       "      <td>794</td>\n",
       "      <td>794.000000</td>\n",
       "      <td>2</td>\n",
       "    </tr>\n",
       "    <tr>\n",
       "      <th>3</th>\n",
       "      <td>2020-01</td>\n",
       "      <td>2020-04</td>\n",
       "      <td>3</td>\n",
       "      <td>794</td>\n",
       "      <td>1058.666667</td>\n",
       "      <td>3</td>\n",
       "    </tr>\n",
       "    <tr>\n",
       "      <th>4</th>\n",
       "      <td>2020-01</td>\n",
       "      <td>2020-05</td>\n",
       "      <td>3</td>\n",
       "      <td>794</td>\n",
       "      <td>1323.333333</td>\n",
       "      <td>4</td>\n",
       "    </tr>\n",
       "    <tr>\n",
       "      <th>5</th>\n",
       "      <td>2020-01</td>\n",
       "      <td>2020-06</td>\n",
       "      <td>3</td>\n",
       "      <td>794</td>\n",
       "      <td>1588.000000</td>\n",
       "      <td>5</td>\n",
       "    </tr>\n",
       "    <tr>\n",
       "      <th>6</th>\n",
       "      <td>2020-01</td>\n",
       "      <td>2020-07</td>\n",
       "      <td>3</td>\n",
       "      <td>794</td>\n",
       "      <td>1852.666667</td>\n",
       "      <td>6</td>\n",
       "    </tr>\n",
       "    <tr>\n",
       "      <th>7</th>\n",
       "      <td>2020-01</td>\n",
       "      <td>2020-08</td>\n",
       "      <td>3</td>\n",
       "      <td>1544</td>\n",
       "      <td>2367.333333</td>\n",
       "      <td>7</td>\n",
       "    </tr>\n",
       "    <tr>\n",
       "      <th>8</th>\n",
       "      <td>2020-01</td>\n",
       "      <td>2020-09</td>\n",
       "      <td>3</td>\n",
       "      <td>794</td>\n",
       "      <td>2632.000000</td>\n",
       "      <td>8</td>\n",
       "    </tr>\n",
       "    <tr>\n",
       "      <th>9</th>\n",
       "      <td>2020-01</td>\n",
       "      <td>2020-10</td>\n",
       "      <td>3</td>\n",
       "      <td>794</td>\n",
       "      <td>2896.666667</td>\n",
       "      <td>9</td>\n",
       "    </tr>\n",
       "    <tr>\n",
       "      <th>10</th>\n",
       "      <td>2020-01</td>\n",
       "      <td>2020-11</td>\n",
       "      <td>3</td>\n",
       "      <td>794</td>\n",
       "      <td>3161.333333</td>\n",
       "      <td>10</td>\n",
       "    </tr>\n",
       "    <tr>\n",
       "      <th>11</th>\n",
       "      <td>2020-01</td>\n",
       "      <td>2020-12</td>\n",
       "      <td>2</td>\n",
       "      <td>544</td>\n",
       "      <td>5014.000000</td>\n",
       "      <td>11</td>\n",
       "    </tr>\n",
       "    <tr>\n",
       "      <th>12</th>\n",
       "      <td>2020-05</td>\n",
       "      <td>2020-05</td>\n",
       "      <td>1</td>\n",
       "      <td>262</td>\n",
       "      <td>262.000000</td>\n",
       "      <td>0</td>\n",
       "    </tr>\n",
       "    <tr>\n",
       "      <th>13</th>\n",
       "      <td>2020-05</td>\n",
       "      <td>2020-06</td>\n",
       "      <td>1</td>\n",
       "      <td>262</td>\n",
       "      <td>524.000000</td>\n",
       "      <td>1</td>\n",
       "    </tr>\n",
       "    <tr>\n",
       "      <th>14</th>\n",
       "      <td>2020-05</td>\n",
       "      <td>2020-07</td>\n",
       "      <td>1</td>\n",
       "      <td>262</td>\n",
       "      <td>786.000000</td>\n",
       "      <td>2</td>\n",
       "    </tr>\n",
       "  </tbody>\n",
       "</table>\n",
       "</div>"
      ],
      "text/plain": [
       "     cohort order_month  n_customers  revenue          clr  period_number\n",
       "0   2020-01     2020-01            3      794   264.666667              0\n",
       "1   2020-01     2020-02            3      794   529.333333              1\n",
       "2   2020-01     2020-03            3      794   794.000000              2\n",
       "3   2020-01     2020-04            3      794  1058.666667              3\n",
       "4   2020-01     2020-05            3      794  1323.333333              4\n",
       "5   2020-01     2020-06            3      794  1588.000000              5\n",
       "6   2020-01     2020-07            3      794  1852.666667              6\n",
       "7   2020-01     2020-08            3     1544  2367.333333              7\n",
       "8   2020-01     2020-09            3      794  2632.000000              8\n",
       "9   2020-01     2020-10            3      794  2896.666667              9\n",
       "10  2020-01     2020-11            3      794  3161.333333             10\n",
       "11  2020-01     2020-12            2      544  5014.000000             11\n",
       "12  2020-05     2020-05            1      262   262.000000              0\n",
       "13  2020-05     2020-06            1      262   524.000000              1\n",
       "14  2020-05     2020-07            1      262   786.000000              2"
      ]
     },
     "execution_count": 48,
     "metadata": {},
     "output_type": "execute_result"
    }
   ],
   "source": [
    "df_ca_analysis = cohort_analysis(df_ca)\n",
    "df_ca_analysis.head(15)"
   ]
  },
  {
   "cell_type": "markdown",
   "id": "519cdf8c",
   "metadata": {},
   "source": [
    "### CA Customer Retention Rate"
   ]
  },
  {
   "cell_type": "code",
   "execution_count": 49,
   "id": "f325ad20",
   "metadata": {},
   "outputs": [
    {
     "data": {
      "image/png": "[encoded data removed]",
      "text/plain": [
       "<Figure size 864x576 with 3 Axes>"
      ]
     },
     "metadata": {
      "needs_background": "light"
     },
     "output_type": "display_data"
    }
   ],
   "source": [
    "cohort_chart(df_ca_analysis,'n_customers','CA_Customer_Retention_Rate')"
   ]
  },
  {
   "cell_type": "markdown",
   "id": "78a6e66f",
   "metadata": {},
   "source": [
    "Few customers were acquired during the initial months of 2020. There is no cohort information available for the second, third, or fourth months. Similarly, the retention rate of cohorts has decreased in the month of December."
   ]
  },
  {
   "cell_type": "markdown",
   "id": "5eb7263a",
   "metadata": {},
   "source": [
    "### CA Net Revenue Retention"
   ]
  },
  {
   "cell_type": "code",
   "execution_count": 50,
   "id": "e21d291b",
   "metadata": {},
   "outputs": [
    {
     "data": {
      "image/png": "[encoded data removed]",
      "text/plain": [
       "<Figure size 864x576 with 2 Axes>"
      ]
     },
     "metadata": {
      "needs_background": "light"
     },
     "output_type": "display_data"
    }
   ],
   "source": [
    "cohort_chart(df_ca_analysis,'revenue','CA_Net_Revenue_Retention')"
   ]
  },
  {
   "cell_type": "markdown",
   "id": "157f9a59",
   "metadata": {},
   "source": [
    "We see a sudden increase in net revenue for the cohort from the first month for the seventh month. Perhaps that cohort requested an upgrade and then returned to their regular subscription the following month. Similar reason can be applicable for other increase in net revenue."
   ]
  },
  {
   "cell_type": "markdown",
   "id": "2573a11b",
   "metadata": {},
   "source": [
    "### CA Customer Lifetime Revenue"
   ]
  },
  {
   "cell_type": "code",
   "execution_count": 51,
   "id": "f248f9d1",
   "metadata": {},
   "outputs": [
    {
     "data": {
      "image/png": "[encoded data removed]",
      "text/plain": [
       "<Figure size 864x576 with 2 Axes>"
      ]
     },
     "metadata": {
      "needs_background": "light"
     },
     "output_type": "display_data"
    }
   ],
   "source": [
    "cohort_chart(df_ca_analysis,'clr','CA_Customer_Lifetime_Revenue')"
   ]
  },
  {
   "cell_type": "markdown",
   "id": "7466868b",
   "metadata": {},
   "source": [
    "By the end of the year, the company had earned $5,000 from a Canadian customer. However, there is a significant increase from the eleventh to the twelfth month. As a result, it might be a good idea to comprehend that abrupt change in one month."
   ]
  },
  {
   "cell_type": "markdown",
   "id": "f86a9aef",
   "metadata": {},
   "source": [
    "# Cohort Layer Cake"
   ]
  },
  {
   "cell_type": "code",
   "execution_count": 52,
   "id": "856476a6",
   "metadata": {},
   "outputs": [
    {
     "data": {
      "text/html": [
       "<div>\n",
       "<style scoped>\n",
       "    .dataframe tbody tr th:only-of-type {\n",
       "        vertical-align: middle;\n",
       "    }\n",
       "\n",
       "    .dataframe tbody tr th {\n",
       "        vertical-align: top;\n",
       "    }\n",
       "\n",
       "    .dataframe thead th {\n",
       "        text-align: right;\n",
       "    }\n",
       "</style>\n",
       "<table border=\"1\" class=\"dataframe\">\n",
       "  <thead>\n",
       "    <tr style=\"text-align: right;\">\n",
       "      <th></th>\n",
       "      <th>created</th>\n",
       "      <th>paid</th>\n",
       "      <th>refunded</th>\n",
       "      <th>customer</th>\n",
       "      <th>card__country</th>\n",
       "      <th>net_revenue</th>\n",
       "    </tr>\n",
       "  </thead>\n",
       "  <tbody>\n",
       "    <tr>\n",
       "      <th>0</th>\n",
       "      <td>2020-10-21 04:45:40+00:00</td>\n",
       "      <td>250</td>\n",
       "      <td>250</td>\n",
       "      <td>cus_IF3JcGrw0aMpgv</td>\n",
       "      <td>US</td>\n",
       "      <td>0</td>\n",
       "    </tr>\n",
       "    <tr>\n",
       "      <th>1</th>\n",
       "      <td>2020-10-27 23:02:31+00:00</td>\n",
       "      <td>250</td>\n",
       "      <td>250</td>\n",
       "      <td>cus_IHaMqtFwUNAO09</td>\n",
       "      <td>US</td>\n",
       "      <td>0</td>\n",
       "    </tr>\n",
       "    <tr>\n",
       "      <th>2</th>\n",
       "      <td>2020-11-01 02:42:43+00:00</td>\n",
       "      <td>250</td>\n",
       "      <td>250</td>\n",
       "      <td>cus_IJ8oU3Lo2gaHls</td>\n",
       "      <td>DE</td>\n",
       "      <td>0</td>\n",
       "    </tr>\n",
       "    <tr>\n",
       "      <th>3</th>\n",
       "      <td>2020-11-17 19:51:25+00:00</td>\n",
       "      <td>750</td>\n",
       "      <td>0</td>\n",
       "      <td>cus_HbD8AagiDUOBoG</td>\n",
       "      <td>US</td>\n",
       "      <td>750</td>\n",
       "    </tr>\n",
       "    <tr>\n",
       "      <th>4</th>\n",
       "      <td>2020-11-17 21:28:58+00:00</td>\n",
       "      <td>250</td>\n",
       "      <td>0</td>\n",
       "      <td>cus_IDnbmEhzNjlGV0</td>\n",
       "      <td>GB</td>\n",
       "      <td>250</td>\n",
       "    </tr>\n",
       "  </tbody>\n",
       "</table>\n",
       "</div>"
      ],
      "text/plain": [
       "                    created  paid  refunded            customer card__country  \\\n",
       "0 2020-10-21 04:45:40+00:00   250       250  cus_IF3JcGrw0aMpgv            US   \n",
       "1 2020-10-27 23:02:31+00:00   250       250  cus_IHaMqtFwUNAO09            US   \n",
       "2 2020-11-01 02:42:43+00:00   250       250  cus_IJ8oU3Lo2gaHls            DE   \n",
       "3 2020-11-17 19:51:25+00:00   750         0  cus_HbD8AagiDUOBoG            US   \n",
       "4 2020-11-17 21:28:58+00:00   250         0  cus_IDnbmEhzNjlGV0            GB   \n",
       "\n",
       "   net_revenue  \n",
       "0            0  \n",
       "1            0  \n",
       "2            0  \n",
       "3          750  \n",
       "4          250  "
      ]
     },
     "execution_count": 52,
     "metadata": {},
     "output_type": "execute_result"
    }
   ],
   "source": [
    "df.head()"
   ]
  },
  {
   "cell_type": "code",
   "execution_count": 53,
   "id": "830a3555",
   "metadata": {},
   "outputs": [
    {
     "data": {
      "text/html": [
       "<div>\n",
       "<style scoped>\n",
       "    .dataframe tbody tr th:only-of-type {\n",
       "        vertical-align: middle;\n",
       "    }\n",
       "\n",
       "    .dataframe tbody tr th {\n",
       "        vertical-align: top;\n",
       "    }\n",
       "\n",
       "    .dataframe thead th {\n",
       "        text-align: right;\n",
       "    }\n",
       "</style>\n",
       "<table border=\"1\" class=\"dataframe\">\n",
       "  <thead>\n",
       "    <tr style=\"text-align: right;\">\n",
       "      <th></th>\n",
       "      <th>created</th>\n",
       "      <th>paid</th>\n",
       "      <th>refunded</th>\n",
       "      <th>customer</th>\n",
       "      <th>card__country</th>\n",
       "      <th>net_revenue</th>\n",
       "      <th>order_month</th>\n",
       "      <th>cohort</th>\n",
       "    </tr>\n",
       "  </thead>\n",
       "  <tbody>\n",
       "    <tr>\n",
       "      <th>0</th>\n",
       "      <td>2020-10-21 04:45:40+00:00</td>\n",
       "      <td>250</td>\n",
       "      <td>250</td>\n",
       "      <td>cus_IF3JcGrw0aMpgv</td>\n",
       "      <td>US</td>\n",
       "      <td>0</td>\n",
       "      <td>2020-10</td>\n",
       "      <td>2020-10</td>\n",
       "    </tr>\n",
       "    <tr>\n",
       "      <th>1</th>\n",
       "      <td>2020-10-27 23:02:31+00:00</td>\n",
       "      <td>250</td>\n",
       "      <td>250</td>\n",
       "      <td>cus_IHaMqtFwUNAO09</td>\n",
       "      <td>US</td>\n",
       "      <td>0</td>\n",
       "      <td>2020-10</td>\n",
       "      <td>2020-10</td>\n",
       "    </tr>\n",
       "    <tr>\n",
       "      <th>2</th>\n",
       "      <td>2020-11-01 02:42:43+00:00</td>\n",
       "      <td>250</td>\n",
       "      <td>250</td>\n",
       "      <td>cus_IJ8oU3Lo2gaHls</td>\n",
       "      <td>DE</td>\n",
       "      <td>0</td>\n",
       "      <td>2020-11</td>\n",
       "      <td>2020-11</td>\n",
       "    </tr>\n",
       "    <tr>\n",
       "      <th>3</th>\n",
       "      <td>2020-11-17 19:51:25+00:00</td>\n",
       "      <td>750</td>\n",
       "      <td>0</td>\n",
       "      <td>cus_HbD8AagiDUOBoG</td>\n",
       "      <td>US</td>\n",
       "      <td>750</td>\n",
       "      <td>2020-11</td>\n",
       "      <td>2020-07</td>\n",
       "    </tr>\n",
       "    <tr>\n",
       "      <th>4</th>\n",
       "      <td>2020-11-17 21:28:58+00:00</td>\n",
       "      <td>250</td>\n",
       "      <td>0</td>\n",
       "      <td>cus_IDnbmEhzNjlGV0</td>\n",
       "      <td>GB</td>\n",
       "      <td>250</td>\n",
       "      <td>2020-11</td>\n",
       "      <td>2020-10</td>\n",
       "    </tr>\n",
       "    <tr>\n",
       "      <th>5</th>\n",
       "      <td>2020-11-17 22:00:05+00:00</td>\n",
       "      <td>250</td>\n",
       "      <td>0</td>\n",
       "      <td>cus_IPOi2mODKj9VxK</td>\n",
       "      <td>GB</td>\n",
       "      <td>250</td>\n",
       "      <td>2020-11</td>\n",
       "      <td>2020-11</td>\n",
       "    </tr>\n",
       "    <tr>\n",
       "      <th>6</th>\n",
       "      <td>2020-11-17 22:18:09+00:00</td>\n",
       "      <td>250</td>\n",
       "      <td>0</td>\n",
       "      <td>cus_FH0Csodtt6j0ff</td>\n",
       "      <td>US</td>\n",
       "      <td>250</td>\n",
       "      <td>2020-11</td>\n",
       "      <td>2020-01</td>\n",
       "    </tr>\n",
       "    <tr>\n",
       "      <th>7</th>\n",
       "      <td>2020-11-17 23:05:19+00:00</td>\n",
       "      <td>1000</td>\n",
       "      <td>0</td>\n",
       "      <td>cus_IBtiU1rmRe2oKe</td>\n",
       "      <td>US</td>\n",
       "      <td>1000</td>\n",
       "      <td>2020-11</td>\n",
       "      <td>2020-10</td>\n",
       "    </tr>\n",
       "    <tr>\n",
       "      <th>8</th>\n",
       "      <td>2020-11-17 23:06:20+00:00</td>\n",
       "      <td>250</td>\n",
       "      <td>0</td>\n",
       "      <td>cus_IFGe6elQiZ5nmG</td>\n",
       "      <td>US</td>\n",
       "      <td>250</td>\n",
       "      <td>2020-11</td>\n",
       "      <td>2020-10</td>\n",
       "    </tr>\n",
       "    <tr>\n",
       "      <th>9</th>\n",
       "      <td>2020-11-17 23:12:04+00:00</td>\n",
       "      <td>250</td>\n",
       "      <td>0</td>\n",
       "      <td>cus_IPSFRhCvHRLSEz</td>\n",
       "      <td>AU</td>\n",
       "      <td>250</td>\n",
       "      <td>2020-11</td>\n",
       "      <td>2020-11</td>\n",
       "    </tr>\n",
       "  </tbody>\n",
       "</table>\n",
       "</div>"
      ],
      "text/plain": [
       "                    created  paid  refunded            customer card__country  \\\n",
       "0 2020-10-21 04:45:40+00:00   250       250  cus_IF3JcGrw0aMpgv            US   \n",
       "1 2020-10-27 23:02:31+00:00   250       250  cus_IHaMqtFwUNAO09            US   \n",
       "2 2020-11-01 02:42:43+00:00   250       250  cus_IJ8oU3Lo2gaHls            DE   \n",
       "3 2020-11-17 19:51:25+00:00   750         0  cus_HbD8AagiDUOBoG            US   \n",
       "4 2020-11-17 21:28:58+00:00   250         0  cus_IDnbmEhzNjlGV0            GB   \n",
       "5 2020-11-17 22:00:05+00:00   250         0  cus_IPOi2mODKj9VxK            GB   \n",
       "6 2020-11-17 22:18:09+00:00   250         0  cus_FH0Csodtt6j0ff            US   \n",
       "7 2020-11-17 23:05:19+00:00  1000         0  cus_IBtiU1rmRe2oKe            US   \n",
       "8 2020-11-17 23:06:20+00:00   250         0  cus_IFGe6elQiZ5nmG            US   \n",
       "9 2020-11-17 23:12:04+00:00   250         0  cus_IPSFRhCvHRLSEz            AU   \n",
       "\n",
       "   net_revenue order_month   cohort  \n",
       "0            0     2020-10  2020-10  \n",
       "1            0     2020-10  2020-10  \n",
       "2            0     2020-11  2020-11  \n",
       "3          750     2020-11  2020-07  \n",
       "4          250     2020-11  2020-10  \n",
       "5          250     2020-11  2020-11  \n",
       "6          250     2020-11  2020-01  \n",
       "7         1000     2020-11  2020-10  \n",
       "8          250     2020-11  2020-10  \n",
       "9          250     2020-11  2020-11  "
      ]
     },
     "execution_count": 53,
     "metadata": {},
     "output_type": "execute_result"
    }
   ],
   "source": [
    "df_cl=cohort_period(df)\n",
    "df_cl.head(10)"
   ]
  },
  {
   "cell_type": "code",
   "execution_count": 54,
   "id": "5f8f00ab",
   "metadata": {},
   "outputs": [],
   "source": [
    "def cohort_net_revenue(x):\n",
    "    \"\"\"\n",
    "    function creates a revenue column which captures the overall revenue for that cohort\n",
    "    Parameter: x is the dataframe\n",
    "    Return: modified dataframe\n",
    "    \"\"\"\n",
    "    y=x.groupby(['cohort', 'order_month']).agg(revenue=('net_revenue', 'sum')).reset_index(drop=False)   \n",
    "    return y"
   ]
  },
  {
   "cell_type": "code",
   "execution_count": 55,
   "id": "97b9bc21",
   "metadata": {},
   "outputs": [
    {
     "data": {
      "text/html": [
       "<div>\n",
       "<style scoped>\n",
       "    .dataframe tbody tr th:only-of-type {\n",
       "        vertical-align: middle;\n",
       "    }\n",
       "\n",
       "    .dataframe tbody tr th {\n",
       "        vertical-align: top;\n",
       "    }\n",
       "\n",
       "    .dataframe thead th {\n",
       "        text-align: right;\n",
       "    }\n",
       "</style>\n",
       "<table border=\"1\" class=\"dataframe\">\n",
       "  <thead>\n",
       "    <tr style=\"text-align: right;\">\n",
       "      <th></th>\n",
       "      <th>cohort</th>\n",
       "      <th>order_month</th>\n",
       "      <th>revenue</th>\n",
       "    </tr>\n",
       "  </thead>\n",
       "  <tbody>\n",
       "    <tr>\n",
       "      <th>0</th>\n",
       "      <td>2020-01</td>\n",
       "      <td>2020-01</td>\n",
       "      <td>51065</td>\n",
       "    </tr>\n",
       "    <tr>\n",
       "      <th>1</th>\n",
       "      <td>2020-01</td>\n",
       "      <td>2020-02</td>\n",
       "      <td>46007</td>\n",
       "    </tr>\n",
       "    <tr>\n",
       "      <th>2</th>\n",
       "      <td>2020-01</td>\n",
       "      <td>2020-03</td>\n",
       "      <td>39635</td>\n",
       "    </tr>\n",
       "    <tr>\n",
       "      <th>3</th>\n",
       "      <td>2020-01</td>\n",
       "      <td>2020-04</td>\n",
       "      <td>32915</td>\n",
       "    </tr>\n",
       "    <tr>\n",
       "      <th>4</th>\n",
       "      <td>2020-01</td>\n",
       "      <td>2020-05</td>\n",
       "      <td>23002</td>\n",
       "    </tr>\n",
       "    <tr>\n",
       "      <th>5</th>\n",
       "      <td>2020-01</td>\n",
       "      <td>2020-06</td>\n",
       "      <td>21553</td>\n",
       "    </tr>\n",
       "    <tr>\n",
       "      <th>6</th>\n",
       "      <td>2020-01</td>\n",
       "      <td>2020-07</td>\n",
       "      <td>16527</td>\n",
       "    </tr>\n",
       "    <tr>\n",
       "      <th>7</th>\n",
       "      <td>2020-01</td>\n",
       "      <td>2020-08</td>\n",
       "      <td>16344</td>\n",
       "    </tr>\n",
       "    <tr>\n",
       "      <th>8</th>\n",
       "      <td>2020-01</td>\n",
       "      <td>2020-09</td>\n",
       "      <td>13099</td>\n",
       "    </tr>\n",
       "    <tr>\n",
       "      <th>9</th>\n",
       "      <td>2020-01</td>\n",
       "      <td>2020-10</td>\n",
       "      <td>14759</td>\n",
       "    </tr>\n",
       "    <tr>\n",
       "      <th>10</th>\n",
       "      <td>2020-01</td>\n",
       "      <td>2020-11</td>\n",
       "      <td>13963</td>\n",
       "    </tr>\n",
       "    <tr>\n",
       "      <th>11</th>\n",
       "      <td>2020-01</td>\n",
       "      <td>2020-12</td>\n",
       "      <td>14202</td>\n",
       "    </tr>\n",
       "    <tr>\n",
       "      <th>12</th>\n",
       "      <td>2020-02</td>\n",
       "      <td>2020-02</td>\n",
       "      <td>7103</td>\n",
       "    </tr>\n",
       "    <tr>\n",
       "      <th>13</th>\n",
       "      <td>2020-02</td>\n",
       "      <td>2020-03</td>\n",
       "      <td>3536</td>\n",
       "    </tr>\n",
       "    <tr>\n",
       "      <th>14</th>\n",
       "      <td>2020-02</td>\n",
       "      <td>2020-04</td>\n",
       "      <td>2871</td>\n",
       "    </tr>\n",
       "  </tbody>\n",
       "</table>\n",
       "</div>"
      ],
      "text/plain": [
       "     cohort order_month  revenue\n",
       "0   2020-01     2020-01    51065\n",
       "1   2020-01     2020-02    46007\n",
       "2   2020-01     2020-03    39635\n",
       "3   2020-01     2020-04    32915\n",
       "4   2020-01     2020-05    23002\n",
       "5   2020-01     2020-06    21553\n",
       "6   2020-01     2020-07    16527\n",
       "7   2020-01     2020-08    16344\n",
       "8   2020-01     2020-09    13099\n",
       "9   2020-01     2020-10    14759\n",
       "10  2020-01     2020-11    13963\n",
       "11  2020-01     2020-12    14202\n",
       "12  2020-02     2020-02     7103\n",
       "13  2020-02     2020-03     3536\n",
       "14  2020-02     2020-04     2871"
      ]
     },
     "execution_count": 55,
     "metadata": {},
     "output_type": "execute_result"
    }
   ],
   "source": [
    "df_cohort_layer = cohort_net_revenue(df_cl)\n",
    "df_cohort_layer.head(15)"
   ]
  },
  {
   "cell_type": "code",
   "execution_count": 56,
   "id": "0ded3844",
   "metadata": {},
   "outputs": [],
   "source": [
    "def cohort_layer(df):\n",
    "    \"\"\"\n",
    "    function to create a cohort layer cake\n",
    "    Parameters: \n",
    "        - df: The dataframe with cohort, order month and revenue\n",
    "    Returns: This function gives us a cohort layer cake plot and save the image in local database\n",
    "    \"\"\"\n",
    "    cohort_pivot = df.pivot_table(index='cohort',columns='order_month',values='revenue').fillna(0)\n",
    "    \n",
    "    x = list(cohort_pivot.index.to_series().astype(str))\n",
    "    y=[]\n",
    "    for i in range(len(x)):\n",
    "        z=list(cohort_pivot.iloc[i,:])\n",
    "        y.append(z)\n",
    "    \n",
    "    fig, ax = plt.subplots(figsize=(12, 8))\n",
    "    pal = sns.color_palette(\"Paired\")\n",
    "    # layer cake\n",
    "    plt.stackplot(x,y,colors=pal,alpha=0.6,labels=x)\n",
    "    plt.legend(loc='center left', bbox_to_anchor=(1, 0.5),title=\"Cohort\")\n",
    "    plt.grid()\n",
    "    \n",
    "    ax.yaxis.set_major_formatter(ticker.EngFormatter())\n",
    "    ax.set_title('Total Revenue by Cohort in 2020', fontsize=16)\n",
    "    ax.set(xlabel='Payment Month',ylabel='Revenue')\n",
    "  \n",
    "    fig.tight_layout()\n",
    "    plt.savefig('.\\cohortcharts\\cohort_layer_cake.svg', format='svg', dpi=1200)"
   ]
  },
  {
   "cell_type": "markdown",
   "id": "b1664e0b",
   "metadata": {},
   "source": [
    "## Cohort Layer Cake"
   ]
  },
  {
   "cell_type": "code",
   "execution_count": 57,
   "id": "0c87dc16",
   "metadata": {},
   "outputs": [
    {
     "data": {
      "image/png": "[encoded data removed]",
      "text/plain": [
       "<Figure size 864x576 with 1 Axes>"
      ]
     },
     "metadata": {
      "needs_background": "light"
     },
     "output_type": "display_data"
    }
   ],
   "source": [
    "cohort_layer(df_cohort_layer)"
   ]
  },
  {
   "cell_type": "markdown",
   "id": "dc566719",
   "metadata": {},
   "source": [
    "By the end of the year, the company's revenue had increased from 50k dollars to 200K dollars. We can see that the cohort from the second to the fifth month did not contribute significantly to the company's revenue. One possible explanation is an outbreak of covid-19. Many businesses were impacted by the lockdown. Perhaps fewer customers were gained during that time, resulting in a low revenue figure for those months. We also expect a recovery in the coming months. The decrease in revenue for some cohorts, such as the first-month cohort, can be attributed to some customers opting out."
   ]
  },
  {
   "cell_type": "markdown",
   "id": "c96599a0",
   "metadata": {},
   "source": [
    "# Results and Conclusion"
   ]
  },
  {
   "cell_type": "markdown",
   "id": "2df3482e",
   "metadata": {},
   "source": [
    "* During the month of December, cohort retention rates were low in all three countries. To regain customers, one can analyze their behavior and offer them a deal.\n",
    "* In a few cases, we noticed an unexpected increase in net revenue retention. It'd be interesting to learn about the behaviors of those cohorts and see what's going on.\n",
    "* On average, the company made the revenue of 4000 dollars per customer per year.\n",
    "* By the end of the year, the company's revenue had increased from 50k dollars to 200K dollars. We can also see how covid-19 might affect revenue from the cohort layer cake.\n",
    "* Customer Lifetime Value can be analyzed if gross margin profit is given.\n",
    "* Discuss with team members to see if any other metrics is useful for them."
   ]
  }
 ],
 "metadata": {
  "kernelspec": {
   "display_name": "Python 3",
   "language": "python",
   "name": "python3"
  },
  "language_info": {
   "codemirror_mode": {
    "name": "ipython",
    "version": 3
   },
   "file_extension": ".py",
   "mimetype": "text/x-python",
   "name": "python",
   "nbconvert_exporter": "python",
   "pygments_lexer": "ipython3",
   "version": "3.8.5"
  },
  "toc": {
   "base_numbering": 1,
   "nav_menu": {},
   "number_sections": true,
   "sideBar": true,
   "skip_h1_title": false,
   "title_cell": "Table of Contents",
   "title_sidebar": "Contents",
   "toc_cell": true,
   "toc_position": {
    "height": "calc(100% - 180px)",
    "left": "10px",
    "top": "150px",
    "width": "165px"
   },
   "toc_section_display": false,
   "toc_window_display": false
  },
  "varInspector": {
   "cols": {
    "lenName": 16,
    "lenType": 16,
    "lenVar": 40
   },
   "kernels_config": {
    "python": {
     "delete_cmd_postfix": "",
     "delete_cmd_prefix": "del ",
     "library": "var_list.py",
     "varRefreshCmd": "print(var_dic_list())"
    },
    "r": {
     "delete_cmd_postfix": ") ",
     "delete_cmd_prefix": "rm(",
     "library": "var_list.r",
     "varRefreshCmd": "cat(var_dic_list()) "
    }
   },
   "types_to_exclude": [
    "module",
    "function",
    "builtin_function_or_method",
    "instance",
    "_Feature"
   ],
   "window_display": false
  }
 },
 "nbformat": 4,
 "nbformat_minor": 5
}
